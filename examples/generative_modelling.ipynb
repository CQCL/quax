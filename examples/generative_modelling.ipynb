{
 "cells": [
  {
   "cell_type": "markdown",
   "id": "f0141176",
   "metadata": {},
   "source": [
    "# In this notebook we will train a quantum circuit (or Born machine) to fit an integer dataset\n",
    "\n",
    "The dataset in question is 482 measurements of Hidalgo stamps from 1872 [Izenman and Sommer 1988](https://www.jstor.org/stable/2290118#metadata_info_tab_contents), which are integers on the micrometre scale. The data is stored in the `hidalgo_stamp.txt` file in this directory.\n",
    "\n",
    "More information can be found in [Duffield et al 2022](https://arxiv.org/abs/2206.07559)."
   ]
  },
  {
   "cell_type": "code",
   "execution_count": 1,
   "id": "0a04f31b",
   "metadata": {
    "pycharm": {
     "name": "#%%\n"
    }
   },
   "outputs": [],
   "source": [
    "from jax import numpy as jnp, random, vmap, value_and_grad, jit\n",
    "import matplotlib.pyplot as plt\n",
    "\n",
    "import qujax"
   ]
  },
  {
   "cell_type": "code",
   "execution_count": 2,
   "id": "c9eae32d",
   "metadata": {},
   "outputs": [],
   "source": [
    "n_qubits = 8\n",
    "circuit_depth = 4\n",
    "init_rad = 0.001 / jnp.pi\n",
    "beta = 1e3\n",
    "get_stepsize = lambda step: (step + 10) ** (-1/3)\n",
    "n_steps = 500\n",
    "random_key = random.PRNGKey(0)"
   ]
  },
  {
   "cell_type": "code",
   "execution_count": 3,
   "id": "7d9c25ed",
   "metadata": {},
   "outputs": [],
   "source": [
    "init_key, train_key = random.split(random_key)"
   ]
  },
  {
   "cell_type": "markdown",
   "id": "f14409d4",
   "metadata": {},
   "source": [
    "# Let's load the data"
   ]
  },
  {
   "cell_type": "code",
   "execution_count": 4,
   "id": "59067485",
   "metadata": {},
   "outputs": [],
   "source": [
    "with open('hidalgo_stamp.txt', \"r\") as f:\n",
    "        all_lines = [line[:-1].rstrip().split(' ') for line in f if line != '\\n']\n",
    "data = jnp.hstack([[float(a) for a in line] for line in all_lines]) * 1000\n",
    "data = jnp.array(data, dtype=int)"
   ]
  },
  {
   "cell_type": "code",
   "execution_count": 5,
   "id": "707d315b",
   "metadata": {},
   "outputs": [
    {
     "data": {
      "image/png": "[encoded data removed]",
      "text/plain": [
       "<Figure size 432x288 with 1 Axes>"
      ]
     },
     "metadata": {
      "needs_background": "light"
     },
     "output_type": "display_data"
    }
   ],
   "source": [
    "plt.hist(data, bins=50, alpha=0.5)\n",
    "plt.ylabel('Frequency')\n",
    "plt.xlabel('Stamp thickness $\\\\mu$m');"
   ]
  },
  {
   "cell_type": "markdown",
   "id": "6f32a1cf",
   "metadata": {},
   "source": [
    "# We will use the maximum mean discreapancy (MMD) as our training metric\n",
    "\n",
    "We attempt to minimise\n",
    "$$\n",
    "    \\text{MMD}(p, q) = \\mathbb{E}_{pp}[k(x,y)] - 2\\mathbb{E}_{pq}[k(x,y)] + \\mathbb{E}_{qq}[k(x,y)]\n",
    "$$\n",
    "where $p$ is the distribution over the output of the quantum circuit (statetensor) and $q$ is the target distribution (which cannot contain zeroes)."
   ]
  },
  {
   "cell_type": "code",
   "execution_count": 6,
   "id": "00ea8829",
   "metadata": {},
   "outputs": [],
   "source": [
    "def expected_kernel(kernel, data1, weights1, data2, weights2):\n",
    "    def row_eval(data1_single):\n",
    "        return (vmap(kernel, in_axes=(None, 0))(data1_single, data2) * weights2).sum()\n",
    "\n",
    "    return (vmap(row_eval)(data1) * weights1).sum()"
   ]
  },
  {
   "cell_type": "code",
   "execution_count": 7,
   "id": "095b3dcd",
   "metadata": {},
   "outputs": [],
   "source": [
    "def mmd(kernel, data1, weights1, data2, weights2):\n",
    "    return expected_kernel(kernel, data1, weights1, data1, weights1) \\\n",
    "           - 2 * expected_kernel(kernel, data1, weights1, data2, weights2) \\\n",
    "           + expected_kernel(kernel, data2, weights2, data2, weights2)"
   ]
  },
  {
   "cell_type": "markdown",
   "id": "6fa05e34",
   "metadata": {},
   "source": [
    "# Now we can use `qujax` to generate a parameter to MMD function\n",
    "\n",
    "First the quantum circuit (in the form of a parameter to statetensor function)"
   ]
  },
  {
   "cell_type": "code",
   "execution_count": 8,
   "id": "eb0bf997",
   "metadata": {},
   "outputs": [],
   "source": [
    "def get_circuit(n_qubits, depth):\n",
    "    \n",
    "    n_params = 2 * n_qubits * (depth + 1)\n",
    "    \n",
    "    \n",
    "    gates = ['H'] * n_qubits + ['Rx'] * n_qubits + ['Rz'] * n_qubits\n",
    "    qubit_inds = [[i] for i in range(n_qubits)] * 3\n",
    "    param_inds = [[]] * n_qubits + [[i] for i in range(n_qubits * 2)]\n",
    "    \n",
    "    k = 2 * n_qubits\n",
    "\n",
    "    for _ in range(depth):\n",
    "        for i in range(0, n_qubits - 1):\n",
    "            gates.append('CZ')\n",
    "            qubit_inds.append([i, i + 1])\n",
    "            param_inds.append([])\n",
    "        for i in range(n_qubits):\n",
    "            gates.append('Rx')\n",
    "            qubit_inds.append([i])\n",
    "            param_inds.append([k])\n",
    "            k += 1\n",
    "        for i in range(n_qubits):\n",
    "            gates.append('Ry')\n",
    "            qubit_inds.append([i])\n",
    "            param_inds.append([k])\n",
    "            k += 1\n",
    "    return gates, qubit_inds, param_inds, n_params"
   ]
  },
  {
   "cell_type": "code",
   "execution_count": 9,
   "id": "8a2c14a3",
   "metadata": {},
   "outputs": [],
   "source": [
    "gates, qubit_inds, param_inds, n_params = get_circuit(n_qubits, circuit_depth)"
   ]
  },
  {
   "cell_type": "code",
   "execution_count": 10,
   "id": "97c37e1c",
   "metadata": {},
   "outputs": [
    {
     "name": "stdout",
     "output_type": "stream",
     "text": [
      "q0: -----H-----Rx[0]---Rz[8]-----◯---------------------------------------------------\n",
      "                                 |                                                   \n",
      "q1: -----H-----Rx[1]---Rz[9]-----CZ------◯-------------------------------------------\n",
      "                                         |                                           \n",
      "q2: -----H-----Rx[2]---Rz[10]------------CZ------◯-----------------------------------\n",
      "                                                 |                                   \n",
      "q3: -----H-----Rx[3]---Rz[11]--------------------CZ------◯---------------------------\n",
      "                                                         |                           \n",
      "q4: -----H-----Rx[4]---Rz[12]----------------------------CZ------◯-------------------\n",
      "                                                                 |                   \n",
      "q5: -----H-----Rx[5]---Rz[13]------------------------------------CZ------◯-----------\n",
      "                                                                         |           \n",
      "q6: -----H-----Rx[6]---Rz[14]--------------------------------------------CZ------◯---\n",
      "                                                                                 |   \n",
      "q7: -----H-----Rx[7]---Rz[15]----------------------------------------------------CZ--\n"
     ]
    }
   ],
   "source": [
    "qujax.print_circuit(gates, qubit_inds, param_inds, gate_ind_max=30);"
   ]
  },
  {
   "cell_type": "code",
   "execution_count": 11,
   "id": "df04c83a",
   "metadata": {},
   "outputs": [],
   "source": [
    "param_to_st = qujax.get_params_to_statetensor_func(gates, qubit_inds, param_inds)"
   ]
  },
  {
   "cell_type": "markdown",
   "id": "d1676afb",
   "metadata": {},
   "source": [
    "MMD needs a kernel. We'll use a (discrete) Gaussian kernel with the bandwidth chosen with the median heuristic"
   ]
  },
  {
   "cell_type": "code",
   "execution_count": 12,
   "id": "6ca35a9e",
   "metadata": {},
   "outputs": [],
   "source": [
    "dist_mat = vmap(lambda a: vmap(lambda b: (a - b) ** 2)(data))(data)\n",
    "bandwidth_sq = jnp.median(dist_mat) / 2\n",
    "\n",
    "\n",
    "def gaussian_kernel(s1, s2):\n",
    "    return jnp.exp(- jnp.square(s1 - s2) / bandwidth_sq)"
   ]
  },
  {
   "cell_type": "markdown",
   "id": "fc2d1ff2",
   "metadata": {},
   "source": [
    "Now we generate a parameter to MMD function. "
   ]
  },
  {
   "cell_type": "code",
   "execution_count": 13,
   "id": "c1c835ae",
   "metadata": {},
   "outputs": [],
   "source": [
    "data_probs = jnp.ones(len(data)) / len(data)\n",
    "\n",
    "def param_to_mmd(param):\n",
    "    st = param_to_st(param)\n",
    "    probs = jnp.square(jnp.abs(st.flatten()))\n",
    "    return mmd(gaussian_kernel, jnp.arange(st.size), probs, data, data_probs)"
   ]
  },
  {
   "cell_type": "markdown",
   "id": "7c9179e8",
   "metadata": {},
   "source": [
    "# We will use Bayesian learning (SGLD) for training\n",
    "\n",
    "We'll set a uniform prior and then SGLD will generate samples from the posterior"
   ]
  },
  {
   "cell_type": "code",
   "execution_count": 14,
   "id": "0b823182",
   "metadata": {},
   "outputs": [],
   "source": [
    "param_to_mmd_and_grad = jit(value_and_grad(param_to_mmd))"
   ]
  },
  {
   "cell_type": "code",
   "execution_count": 15,
   "id": "2ee64e44",
   "metadata": {},
   "outputs": [],
   "source": [
    "init_param = random.uniform(init_key, shape=(n_params,), minval=-init_rad, maxval=init_rad)"
   ]
  },
  {
   "cell_type": "code",
   "execution_count": 16,
   "id": "87d1efee",
   "metadata": {},
   "outputs": [],
   "source": [
    "train_keys = random.split(train_key, n_steps - 1)"
   ]
  },
  {
   "cell_type": "code",
   "execution_count": 17,
   "id": "c95d4bd3",
   "metadata": {},
   "outputs": [
    {
     "name": "stdout",
     "output_type": "stream",
     "text": [
      "Iteration: 499 \tCost: 0.0117726623\r"
     ]
    }
   ],
   "source": [
    "params = jnp.zeros((n_steps, n_params))\n",
    "params = params.at[0].set(init_param)\n",
    "\n",
    "cost_vals = jnp.zeros(n_steps - 1)\n",
    "\n",
    "for step in range(1, n_steps):\n",
    "    cost_val, cost_grad = param_to_mmd_and_grad(params[step - 1])\n",
    "    cost_vals = cost_vals.at[step - 1].set(cost_val)\n",
    "    \n",
    "    stepsize = get_stepsize(step)\n",
    "\n",
    "    new_param = params[step - 1] - stepsize * cost_grad\\\n",
    "            + jnp.sqrt(2 * stepsize / beta) * random.normal(train_keys[step - 1], shape=(n_params,))\n",
    "    params = params.at[step].set(new_param)\n",
    "\n",
    "    print('Iteration:', step, '\\tCost:', cost_val, end='\\r')"
   ]
  },
  {
   "cell_type": "code",
   "execution_count": 18,
   "id": "06e2d595",
   "metadata": {},
   "outputs": [
    {
     "data": {
      "image/png": "[encoded data removed]",
      "text/plain": [
       "<Figure size 432x288 with 1 Axes>"
      ]
     },
     "metadata": {
      "needs_background": "light"
     },
     "output_type": "display_data"
    }
   ],
   "source": [
    "plt.plot(cost_vals)\n",
    "plt.xlabel('Iteration')\n",
    "plt.ylabel('MMD');"
   ]
  },
  {
   "cell_type": "markdown",
   "id": "2313d59b",
   "metadata": {},
   "source": [
    "Trains nicely! The most obvious thing is to just use the parameters from the final iteration, i.e. a point esimate"
   ]
  },
  {
   "cell_type": "code",
   "execution_count": 19,
   "id": "0e1ed667",
   "metadata": {},
   "outputs": [
    {
     "data": {
      "image/png": "[encoded data removed]",
      "text/plain": [
       "<Figure size 432x288 with 1 Axes>"
      ]
     },
     "metadata": {
      "needs_background": "light"
     },
     "output_type": "display_data"
    }
   ],
   "source": [
    "final_params = params[-1]\n",
    "final_st = param_to_st(final_params)\n",
    "\n",
    "plt.hist(data, bins=50, density=True, alpha=0.5, label='Data');\n",
    "plt.plot(jnp.square(jnp.abs(final_st.flatten())), label='Final Parameter')\n",
    "plt.xlim(data.min(), data.max())\n",
    "plt.ylabel('Probability')\n",
    "plt.xlabel('Stamp thickness $\\\\mu$m')\n",
    "plt.legend();"
   ]
  },
  {
   "cell_type": "markdown",
   "id": "832843e9",
   "metadata": {},
   "source": [
    "However, the Bayesian paradigm dictates that we should integrate over the posterior distribution i.e. average over samples along the trajectory"
   ]
  },
  {
   "cell_type": "code",
   "execution_count": 20,
   "id": "eb2ffafd",
   "metadata": {},
   "outputs": [],
   "source": [
    "burn_in = 100\n",
    "av_probs = vmap(lambda p: jnp.square(jnp.abs(param_to_st(p).flatten())))(params[burn_in:]).mean(0)"
   ]
  },
  {
   "cell_type": "code",
   "execution_count": 21,
   "id": "b44e5b7c",
   "metadata": {},
   "outputs": [
    {
     "data": {
      "image/png": "[encoded data removed]",
      "text/plain": [
       "<Figure size 432x288 with 1 Axes>"
      ]
     },
     "metadata": {
      "needs_background": "light"
     },
     "output_type": "display_data"
    }
   ],
   "source": [
    "final_params = params[-1]\n",
    "final_st = param_to_st(final_params)\n",
    "\n",
    "plt.hist(data, bins=50, density=True, alpha=0.5, label='Data');\n",
    "plt.plot(av_probs, label='Averaged over parameters')\n",
    "plt.xlim(data.min(), data.max())\n",
    "plt.ylabel('Probability')\n",
    "plt.xlabel('Stamp thickness $\\\\mu$m')\n",
    "plt.legend();"
   ]
  },
  {
   "cell_type": "markdown",
   "id": "dd4a311a",
   "metadata": {},
   "source": [
    "Observe the generalisation (smoothing) gained from averaging over the parameter trajectory (posterior samples) rather than using the single point estimate"
   ]
  }
 ],
 "metadata": {
  "kernelspec": {
   "display_name": "Python 3 (ipykernel)",
   "language": "python",
   "name": "python3"
  },
  "language_info": {
   "codemirror_mode": {
    "name": "ipython",
    "version": 3
   },
   "file_extension": ".py",
   "mimetype": "text/x-python",
   "name": "python",
   "nbconvert_exporter": "python",
   "pygments_lexer": "ipython3",
   "version": "3.9.10"
  }
 },
 "nbformat": 4,
 "nbformat_minor": 5
}
