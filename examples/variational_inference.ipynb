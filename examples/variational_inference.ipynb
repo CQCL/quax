{
 "cells": [
  {
   "cell_type": "markdown",
   "id": "f0141176",
   "metadata": {},
   "source": [
    "# In this notebook we will implement a simplified version of [Variational Inference with a Quantum Computer](https://journals.aps.org/prapplied/abstract/10.1103/PhysRevApplied.16.044057)\n",
    "\n",
    "The idea is to train a parameterised quantum circuit so that the distribution of its output (bitstrings) is close to some target distribution (which we can evaluate pointwise)."
   ]
  },
  {
   "cell_type": "code",
   "execution_count": 1,
   "id": "0a04f31b",
   "metadata": {
    "pycharm": {
     "name": "#%%\n"
    }
   },
   "outputs": [],
   "source": [
    "from jax import numpy as jnp, random, vmap, value_and_grad\n",
    "from jax.lax import scan\n",
    "import matplotlib.pyplot as plt\n",
    "import optax\n",
    "\n",
    "import qujax"
   ]
  },
  {
   "cell_type": "code",
   "execution_count": 2,
   "id": "c9eae32d",
   "metadata": {},
   "outputs": [],
   "source": [
    "n_qubits = 8\n",
    "circuit_depth = 3\n",
    "init_rad = 0.001 / jnp.pi\n",
    "stepsize = 1e-3\n",
    "n_steps = 200\n",
    "random_key = random.PRNGKey(0)"
   ]
  },
  {
   "cell_type": "markdown",
   "id": "f14409d4",
   "metadata": {},
   "source": [
    "# Let's define the target distribution\n",
    "\n",
    "We do this by fully specifying the probability mass function or PMF (in practice, for larger problems we would not store this as a fully specified array, rather a function that can be queried)"
   ]
  },
  {
   "cell_type": "code",
   "execution_count": 3,
   "id": "59067485",
   "metadata": {},
   "outputs": [
    {
     "data": {
      "image/png": "[encoded data removed]",
      "text/plain": [
       "<Figure size 432x288 with 1 Axes>"
      ]
     },
     "metadata": {
      "needs_background": "light"
     },
     "output_type": "display_data"
    }
   ],
   "source": [
    "target_prob_func = lambda x: 0.3 + x + 0.3 * jnp.sin(2*jnp.pi*x) + 0.3 * jnp.sin(4*jnp.pi*x)\n",
    "target_pmf = target_prob_func(jnp.arange(2 ** n_qubits) / (2**n_qubits))\n",
    "target_pmf /= target_pmf.sum()\n",
    "\n",
    "plt.bar(jnp.arange(2 ** n_qubits), target_pmf);"
   ]
  },
  {
   "cell_type": "markdown",
   "id": "6f32a1cf",
   "metadata": {},
   "source": [
    "# We will use the KL divergence as our training metric\n",
    "\n",
    "We attempt to minimise\n",
    "$$\n",
    "    KL(p || q) = \\sum_i \\log \\left( \\frac{p_i}{q_i} \\right) p_i,\n",
    "$$\n",
    "where $p$ is the distribution over the output of the quantum circuit (statetensor) and $q$ is the target distribution (which cannot contain zeroes)."
   ]
  },
  {
   "cell_type": "code",
   "execution_count": 4,
   "id": "00ea8829",
   "metadata": {},
   "outputs": [],
   "source": [
    "def kl(p, q):\n",
    "    return ((jnp.log(p) - jnp.log(q)) * p).sum()"
   ]
  },
  {
   "cell_type": "markdown",
   "id": "6fa05e34",
   "metadata": {},
   "source": [
    "# Now we can use `qujax` to generate a parameter to cost (KL) function\n",
    "\n",
    "This begins with defining the quantum circuit"
   ]
  },
  {
   "cell_type": "code",
   "execution_count": 5,
   "id": "eb0bf997",
   "metadata": {},
   "outputs": [],
   "source": [
    "def get_circuit(n_qubits, depth):\n",
    "    \n",
    "    n_params = 2 * n_qubits * (depth + 1)\n",
    "    \n",
    "    \n",
    "    gates = ['H'] * n_qubits + ['Rx'] * n_qubits + ['Rz'] * n_qubits\n",
    "    qubit_inds = [[i] for i in range(n_qubits)] * 3\n",
    "    param_inds = [[]] * n_qubits + [[i] for i in range(n_qubits * 2)]\n",
    "    \n",
    "    k = 2 * n_qubits\n",
    "\n",
    "    for _ in range(depth):\n",
    "        for i in range(0, n_qubits - 1):\n",
    "            gates.append('CZ')\n",
    "            qubit_inds.append([i, i + 1])\n",
    "            param_inds.append([])\n",
    "        for i in range(n_qubits):\n",
    "            gates.append('Rx')\n",
    "            qubit_inds.append([i])\n",
    "            param_inds.append([k])\n",
    "            k += 1\n",
    "        for i in range(n_qubits):\n",
    "            gates.append('Ry')\n",
    "            qubit_inds.append([i])\n",
    "            param_inds.append([k])\n",
    "            k += 1\n",
    "    return gates, qubit_inds, param_inds, n_params"
   ]
  },
  {
   "cell_type": "code",
   "execution_count": 6,
   "id": "8a2c14a3",
   "metadata": {},
   "outputs": [],
   "source": [
    "gates, qubit_inds, param_inds, n_params = get_circuit(n_qubits, circuit_depth)"
   ]
  },
  {
   "cell_type": "code",
   "execution_count": 7,
   "id": "c6296221",
   "metadata": {},
   "outputs": [
    {
     "name": "stdout",
     "output_type": "stream",
     "text": [
      "q0: -----H-----Rx[0]---Rz[8]-----◯---------------------------------------------------\n",
      "                                 |                                                   \n",
      "q1: -----H-----Rx[1]---Rz[9]-----CZ------◯-------------------------------------------\n",
      "                                         |                                           \n",
      "q2: -----H-----Rx[2]---Rz[10]------------CZ------◯-----------------------------------\n",
      "                                                 |                                   \n",
      "q3: -----H-----Rx[3]---Rz[11]--------------------CZ------◯---------------------------\n",
      "                                                         |                           \n",
      "q4: -----H-----Rx[4]---Rz[12]----------------------------CZ------◯-------------------\n",
      "                                                                 |                   \n",
      "q5: -----H-----Rx[5]---Rz[13]------------------------------------CZ------◯-----------\n",
      "                                                                         |           \n",
      "q6: -----H-----Rx[6]---Rz[14]--------------------------------------------CZ------◯---\n",
      "                                                                                 |   \n",
      "q7: -----H-----Rx[7]---Rz[15]----------------------------------------------------CZ--\n"
     ]
    }
   ],
   "source": [
    "qujax.print_circuit(gates, qubit_inds, param_inds, gate_ind_max=30);"
   ]
  },
  {
   "cell_type": "markdown",
   "id": "92e903e5",
   "metadata": {},
   "source": [
    "Then generating the parameter to statetensor function"
   ]
  },
  {
   "cell_type": "code",
   "execution_count": 8,
   "id": "df04c83a",
   "metadata": {},
   "outputs": [],
   "source": [
    "param_to_st = qujax.get_params_to_statetensor_func(gates, qubit_inds, param_inds)"
   ]
  },
  {
   "cell_type": "markdown",
   "id": "fc2d1ff2",
   "metadata": {},
   "source": [
    "Before converting it into a parameter to KL function"
   ]
  },
  {
   "cell_type": "code",
   "execution_count": 9,
   "id": "c1c835ae",
   "metadata": {},
   "outputs": [],
   "source": [
    "def param_to_kl(param):\n",
    "    st = param_to_st(param)\n",
    "    p = jnp.square(jnp.abs(st.flatten()))\n",
    "    return kl(p, target_pmf)"
   ]
  },
  {
   "cell_type": "markdown",
   "id": "7c9179e8",
   "metadata": {},
   "source": [
    "# Gradient descent time\n",
    "\n",
    "[optax](https://github.com/deepmind/optax) provides a suite of gradient based JAX optimisers, we will use Adam"
   ]
  },
  {
   "cell_type": "code",
   "execution_count": 10,
   "id": "0b823182",
   "metadata": {},
   "outputs": [],
   "source": [
    "param_to_kl_and_grad = value_and_grad(param_to_kl)"
   ]
  },
  {
   "cell_type": "code",
   "execution_count": 11,
   "id": "1420fcc1",
   "metadata": {},
   "outputs": [],
   "source": [
    "optimiser = optax.adam(stepsize)"
   ]
  },
  {
   "cell_type": "code",
   "execution_count": 12,
   "id": "57077b7f",
   "metadata": {},
   "outputs": [],
   "source": [
    "init_param = random.uniform(random_key, shape=(n_params,), minval=-init_rad, maxval=init_rad)"
   ]
  },
  {
   "cell_type": "code",
   "execution_count": 13,
   "id": "12bd06c3",
   "metadata": {},
   "outputs": [],
   "source": [
    "init_opt_state = optimiser.init(init_param)"
   ]
  },
  {
   "cell_type": "code",
   "execution_count": 14,
   "id": "5f4c5856",
   "metadata": {},
   "outputs": [],
   "source": [
    "def gd_iteration(params_and_opt_state, step):\n",
    "    params, opt_state = params_and_opt_state\n",
    "\n",
    "    cost, grads = param_to_kl_and_grad(params)\n",
    "\n",
    "    updates, new_opt_state = optimiser.update(grads, opt_state, params)\n",
    "    new_params = optax.apply_updates(params, updates)\n",
    "    return (new_params, new_opt_state), (params, cost)"
   ]
  },
  {
   "cell_type": "code",
   "execution_count": 15,
   "id": "0fca3404",
   "metadata": {},
   "outputs": [],
   "source": [
    "_, (params_path, cost_path) = scan(gd_iteration,\n",
    "                                   (init_param, init_opt_state),\n",
    "                                   jnp.arange(n_steps))"
   ]
  },
  {
   "cell_type": "code",
   "execution_count": 16,
   "id": "06e2d595",
   "metadata": {},
   "outputs": [
    {
     "data": {
      "image/png": "[encoded data removed]",
      "text/plain": [
       "<Figure size 432x288 with 1 Axes>"
      ]
     },
     "metadata": {
      "needs_background": "light"
     },
     "output_type": "display_data"
    }
   ],
   "source": [
    "plt.plot(cost_path)\n",
    "plt.xlabel('Iteration')\n",
    "plt.ylabel('KL');"
   ]
  },
  {
   "cell_type": "code",
   "execution_count": 17,
   "id": "e913cec5",
   "metadata": {},
   "outputs": [
    {
     "data": {
      "image/png": "[encoded data removed]",
      "text/plain": [
       "<Figure size 432x288 with 1 Axes>"
      ]
     },
     "metadata": {
      "needs_background": "light"
     },
     "output_type": "display_data"
    }
   ],
   "source": [
    "final_params = params_path[-1]\n",
    "final_st = param_to_st(final_params)\n",
    "\n",
    "plt.plot(target_pmf, label='Target PMF')\n",
    "plt.plot(jnp.square(jnp.abs(final_st.flatten())), label='Trained Circuit')\n",
    "plt.legend();"
   ]
  },
  {
   "cell_type": "markdown",
   "id": "618e83a8",
   "metadata": {},
   "source": [
    "# Notes\n",
    "\n",
    "The above variational inference algorithm is not practical to be run a quantum device for two reasons\n",
    "\n",
    "- On a quantum device we do not have access to the full statetensor, only Monte Carlo samples from it. This is remedied by replacing the exact KL divergence and its gradients with Monte Carlo approximations.\n",
    "\n",
    "- For samples from a quantum device we cannot evaluate the probability mass function $q$, which is required in the definition of the KL divergence.\n",
    "This is remedied by either simultaneously training a classifier to approximate the KL divergence or by replacing the KL divergence with a Stein discrepancy - see [Variational Inference with a Quantum Computer](https://journals.aps.org/prapplied/abstract/10.1103/PhysRevApplied.16.044057) for full details"
   ]
  }
 ],
 "metadata": {
  "kernelspec": {
   "display_name": "Python 3 (ipykernel)",
   "language": "python",
   "name": "python3"
  },
  "language_info": {
   "codemirror_mode": {
    "name": "ipython",
    "version": 3
   },
   "file_extension": ".py",
   "mimetype": "text/x-python",
   "name": "python",
   "nbconvert_exporter": "python",
   "pygments_lexer": "ipython3",
   "version": "3.9.10"
  }
 },
 "nbformat": 4,
 "nbformat_minor": 5
}
