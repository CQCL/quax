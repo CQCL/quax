{
 "cells": [
  {
   "cell_type": "markdown",
   "metadata": {},
   "source": [
    "# Reducing JIT Compilation time"
   ]
  },
  {
   "cell_type": "markdown",
   "metadata": {},
   "source": [
    "## The Problem"
   ]
  },
  {
   "cell_type": "markdown",
   "metadata": {},
   "source": [
    "One characteristic of `jax.jit` is that it asks to XLA to compile every operation it traces. This can lead to very long compilation times when working with large quantum circuits.\n",
    "\n",
    "If the circuit has a repeating structure, as is common in e.g. parameterized quantum circuits, we can simply ask JAX to compile a single repetition of the circuit and reuse it multiple times.\n",
    "\n",
    "`qujax` makes this easy through a convenience function called `repeat_circuit`. This notebook illustrates how to use this function and shows what happens when we do not."
   ]
  },
  {
   "cell_type": "markdown",
   "metadata": {},
   "source": [
    "## Imports"
   ]
  },
  {
   "cell_type": "code",
   "execution_count": 1,
   "metadata": {},
   "outputs": [
    {
     "name": "stderr",
     "output_type": "stream",
     "text": [
      "No GPU/TPU found, falling back to CPU. (Set TF_CPP_MIN_LOG_LEVEL=0 and rerun for more info.)\n"
     ]
    }
   ],
   "source": [
    "from typing import List, Tuple\n",
    "import time\n",
    "\n",
    "import jax\n",
    "from jax.random import PRNGKey\n",
    "\n",
    "import qujax\n",
    "from qujax import print_circuit, repeat_circuit, all_zeros_statetensor"
   ]
  },
  {
   "cell_type": "markdown",
   "metadata": {},
   "source": [
    "## Circuit definition"
   ]
  },
  {
   "cell_type": "code",
   "execution_count": 2,
   "metadata": {},
   "outputs": [],
   "source": [
    "def circuit(\n",
    "    n_qubits: int, depth: int\n",
    ") -> Tuple[List[str], List[List[int]], List[List[int]], int]:\n",
    "    gates: List[str] = []\n",
    "    qubit_inds: List[List[int]] = []\n",
    "    param_inds: List[List[int]] = []\n",
    "\n",
    "    parameter_index = 0\n",
    "\n",
    "    for _ in range(depth):\n",
    "        # Rx layer\n",
    "        for i in range(n_qubits):\n",
    "            gates.append(\"Rx\")\n",
    "            qubit_inds.append([i])\n",
    "            param_inds.append([parameter_index])\n",
    "            parameter_index += 1\n",
    "\n",
    "        # Rz layer\n",
    "        for i in range(0, n_qubits):\n",
    "            gates.append(\"Rz\")\n",
    "            qubit_inds.append([i])\n",
    "            param_inds.append([parameter_index])\n",
    "            parameter_index += 1\n",
    "\n",
    "        # CRz layer\n",
    "        for i in range(n_qubits - 1):\n",
    "            gates.append(\"CRz\")\n",
    "            qubit_inds.append([i, i + 1])\n",
    "            param_inds.append([parameter_index])\n",
    "            parameter_index += 1\n",
    "\n",
    "    return gates, qubit_inds, param_inds, parameter_index"
   ]
  },
  {
   "cell_type": "markdown",
   "metadata": {},
   "source": [
    "Print one repetition of the circuit to visually check for correctness"
   ]
  },
  {
   "cell_type": "code",
   "execution_count": 3,
   "metadata": {},
   "outputs": [],
   "source": [
    "gates, qubit_inds, param_inds, nr_of_parameters = circuit(4, 1)"
   ]
  },
  {
   "cell_type": "code",
   "execution_count": 4,
   "metadata": {},
   "outputs": [
    {
     "name": "stdout",
     "output_type": "stream",
     "text": [
      "q0: ---Rx[0]---Rz[4]-----◯-------------------\n",
      "                         |                   \n",
      "q1: ---Rx[1]---Rz[5]---CRz[8]----◯-----------\n",
      "                                 |           \n",
      "q2: ---Rx[2]---Rz[6]-----------CRz[9]----◯---\n",
      "                                         |   \n",
      "q3: ---Rx[3]---Rz[7]------------------CRz[10]\n"
     ]
    }
   ],
   "source": [
    "print_circuit(gates, qubit_inds, param_inds);"
   ]
  },
  {
   "cell_type": "markdown",
   "metadata": {},
   "source": [
    "## Compute compilation times"
   ]
  },
  {
   "cell_type": "code",
   "execution_count": 5,
   "metadata": {},
   "outputs": [],
   "source": [
    "n_qubits = 12\n",
    "circuit_depths = list(range(4, 25, 4))\n",
    "rng_seed = 0"
   ]
  },
  {
   "cell_type": "markdown",
   "metadata": {},
   "source": [
    "**Using** the `repeat_circuit` function"
   ]
  },
  {
   "cell_type": "code",
   "execution_count": 6,
   "metadata": {},
   "outputs": [],
   "source": [
    "optimised_times_list = []\n",
    "rng_key = PRNGKey(rng_seed)\n",
    "\n",
    "for d in circuit_depths:\n",
    "    # qujax specification of circuit\n",
    "    gates, qubit_inds, param_inds, nr_of_parameters = circuit(n_qubits, 1)\n",
    "\n",
    "    # Get function that returns one application of the circuit\n",
    "    params_to_statetensor = qujax.get_params_to_statetensor_func(\n",
    "        gates, qubit_inds, param_inds\n",
    "    )\n",
    "\n",
    "    rng_key, parameters_rng = jax.random.split(rng_key)\n",
    "\n",
    "    random_angles = jax.random.uniform(parameters_rng, (d * nr_of_parameters,))\n",
    "\n",
    "    # Allow for an arbitrary number of circuit repetitions while avoiding compilation overhead\n",
    "    repeated_circuit = jax.jit(repeat_circuit(params_to_statetensor, nr_of_parameters))\n",
    "\n",
    "    initial_state = all_zeros_statetensor(n_qubits)\n",
    "\n",
    "    start = time.time()\n",
    "    repeated_circuit.lower(random_angles, initial_state).compile()\n",
    "    elapsed = time.time() - start\n",
    "\n",
    "    optimised_times_list.append(elapsed)"
   ]
  },
  {
   "cell_type": "markdown",
   "metadata": {},
   "source": [
    "**Not using** the `repeat_circuit` function"
   ]
  },
  {
   "cell_type": "code",
   "execution_count": 7,
   "metadata": {},
   "outputs": [],
   "source": [
    "unoptimised_times_list = []\n",
    "rng_key = PRNGKey(rng_seed)\n",
    "\n",
    "for d in circuit_depths:\n",
    "    # qujax specification of circuit\n",
    "    gates, qubit_inds, param_inds, nr_of_parameters = circuit(n_qubits, d)\n",
    "\n",
    "    params_to_statetensor = jax.jit(\n",
    "        qujax.get_params_to_statetensor_func(gates, qubit_inds, param_inds)\n",
    "    )\n",
    "\n",
    "    rng_key, parameters_rng = jax.random.split(rng_key)\n",
    "\n",
    "    random_angles = jax.random.uniform(parameters_rng, (d * nr_of_parameters,))\n",
    "\n",
    "    start = time.time()\n",
    "    params_to_statetensor.lower(random_angles).compile()\n",
    "    elapsed = time.time() - start\n",
    "\n",
    "    unoptimised_times_list.append(elapsed)"
   ]
  },
  {
   "cell_type": "markdown",
   "metadata": {},
   "source": [
    "# Plot results"
   ]
  },
  {
   "cell_type": "code",
   "execution_count": 8,
   "metadata": {},
   "outputs": [],
   "source": [
    "import matplotlib.pyplot as plt"
   ]
  },
  {
   "cell_type": "code",
   "execution_count": 10,
   "metadata": {},
   "outputs": [
    {
     "data": {
      "image/png": "[encoded data removed]",
      "text/plain": [
       "<Figure size 640x480 with 1 Axes>"
      ]
     },
     "metadata": {},
     "output_type": "display_data"
    }
   ],
   "source": [
    "plt.plot(circuit_depths, unoptimised_times_list)\n",
    "plt.scatter(circuit_depths, unoptimised_times_list, marker=\"x\", label=\"unoptimised\")\n",
    "plt.plot(circuit_depths, optimised_times_list)\n",
    "plt.scatter(circuit_depths, optimised_times_list, marker=\"x\", label=\"optimised\")\n",
    "plt.xlabel(\"circuit depth\")\n",
    "plt.ylabel(r\"seconds\")\n",
    "plt.legend();"
   ]
  },
  {
   "cell_type": "markdown",
   "metadata": {},
   "source": [
    "Awesome!"
   ]
  }
 ],
 "metadata": {
  "kernelspec": {
   "display_name": "qujax",
   "language": "python",
   "name": "python3"
  },
  "language_info": {
   "codemirror_mode": {
    "name": "ipython",
    "version": 3
   },
   "file_extension": ".py",
   "mimetype": "text/x-python",
   "name": "python",
   "nbconvert_exporter": "python",
   "pygments_lexer": "ipython3",
   "version": "3.11.4"
  }
 },
 "nbformat": 4,
 "nbformat_minor": 2
}
