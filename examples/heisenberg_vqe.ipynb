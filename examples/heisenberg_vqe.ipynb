{
 "cells": [
  {
   "cell_type": "code",
   "execution_count": 1,
   "id": "0a04f31b",
   "metadata": {
    "pycharm": {
     "name": "#%%\n"
    }
   },
   "outputs": [],
   "source": [
    "from jax import numpy as jnp, random, vmap, grad, value_and_grad, jit\n",
    "import matplotlib.pyplot as plt\n",
    "\n",
    "import qujax"
   ]
  },
  {
   "cell_type": "markdown",
   "id": "41305814",
   "metadata": {
    "pycharm": {
     "name": "#%% md\n"
    }
   },
   "source": [
    "# Let's start with a circuit specification\n",
    "\n",
    "We also store the number of parameters in the circuit, as we will need this later."
   ]
  },
  {
   "cell_type": "code",
   "execution_count": 2,
   "id": "c797439d",
   "metadata": {
    "pycharm": {
     "name": "#%%\n"
    }
   },
   "outputs": [],
   "source": [
    "def get_circuit(n_qubits, depth):\n",
    "    \n",
    "    n_params = 2 * n_qubits * (depth + 1)\n",
    "    \n",
    "    \n",
    "    gates = ['H'] * n_qubits + ['Rx'] * n_qubits + ['Ry'] * n_qubits\n",
    "    qubit_inds = [[i] for i in range(n_qubits)] * 3\n",
    "    param_inds = [[]] * n_qubits + [[i] for i in range(n_qubits * 2)]\n",
    "    \n",
    "    k = 2 * n_qubits\n",
    "\n",
    "    for _ in range(depth):\n",
    "        for i in range(0, n_qubits - 1):\n",
    "            gates.append('CZ')\n",
    "            qubit_inds.append([i, i + 1])\n",
    "            param_inds.append([])\n",
    "        for i in range(n_qubits):\n",
    "            gates.append('Rx')\n",
    "            qubit_inds.append([i])\n",
    "            param_inds.append([k])\n",
    "            k += 1\n",
    "        for i in range(n_qubits):\n",
    "            gates.append('Ry')\n",
    "            qubit_inds.append([i])\n",
    "            param_inds.append([k])\n",
    "            k += 1\n",
    "    return gates, qubit_inds, param_inds, n_params"
   ]
  },
  {
   "cell_type": "code",
   "execution_count": 3,
   "id": "3dacee4f",
   "metadata": {
    "pycharm": {
     "name": "#%%\n"
    }
   },
   "outputs": [],
   "source": [
    "n_qubits = 4\n",
    "depth = 2"
   ]
  },
  {
   "cell_type": "code",
   "execution_count": 4,
   "id": "0f9a5981",
   "metadata": {},
   "outputs": [],
   "source": [
    "gates, qubit_inds, param_inds, n_params = get_circuit(n_qubits, depth)"
   ]
  },
  {
   "cell_type": "code",
   "execution_count": 5,
   "id": "e617b462",
   "metadata": {},
   "outputs": [
    {
     "name": "stdout",
     "output_type": "stream",
     "text": [
      "['H', 'H', 'H', 'H', 'Rx', 'Rx', 'Rx', 'Rx', 'Ry', 'Ry', 'Ry', 'Ry', 'CZ', 'CZ', 'CZ', 'Rx', 'Rx', 'Rx', 'Rx', 'Ry', 'Ry', 'Ry', 'Ry', 'CZ', 'CZ', 'CZ', 'Rx', 'Rx', 'Rx', 'Rx', 'Ry', 'Ry', 'Ry', 'Ry']\n",
      "34\n"
     ]
    }
   ],
   "source": [
    "print(gates)\n",
    "print(len(gates))"
   ]
  },
  {
   "cell_type": "code",
   "execution_count": 6,
   "id": "95401dac",
   "metadata": {},
   "outputs": [
    {
     "name": "stdout",
     "output_type": "stream",
     "text": [
      "[[0], [1], [2], [3], [0], [1], [2], [3], [0], [1], [2], [3], [0, 1], [1, 2], [2, 3], [0], [1], [2], [3], [0], [1], [2], [3], [0, 1], [1, 2], [2, 3], [0], [1], [2], [3], [0], [1], [2], [3]]\n",
      "34\n"
     ]
    }
   ],
   "source": [
    "print(qubit_inds)\n",
    "print(len(qubit_inds))"
   ]
  },
  {
   "cell_type": "code",
   "execution_count": 7,
   "id": "80c0f566",
   "metadata": {},
   "outputs": [
    {
     "name": "stdout",
     "output_type": "stream",
     "text": [
      "[[], [], [], [], [0], [1], [2], [3], [4], [5], [6], [7], [], [], [], [8], [9], [10], [11], [12], [13], [14], [15], [], [], [], [16], [17], [18], [19], [20], [21], [22], [23]]\n",
      "34\n"
     ]
    }
   ],
   "source": [
    "print(param_inds)\n",
    "print(len(param_inds))"
   ]
  },
  {
   "cell_type": "markdown",
   "id": "d0c02fab",
   "metadata": {},
   "source": [
    "Looks good, and all the list lengths are the same 😎\n",
    "\n",
    "We can also print the circuit to be sure it's what we intended"
   ]
  },
  {
   "cell_type": "code",
   "execution_count": 8,
   "id": "9456445b",
   "metadata": {},
   "outputs": [
    {
     "name": "stdout",
     "output_type": "stream",
     "text": [
      "q0: -----H-----Rx[0]---Ry[4]-----◯-------------Rx[8]---Ry[12]------------◯-------------Rx[16]--Ry[20]\n",
      "                                 |                                       |                           \n",
      "q1: -----H-----Rx[1]---Ry[5]-----CZ------◯-----Rx[9]---Ry[13]------------CZ------◯-----Rx[17]--------\n",
      "                                         |                                       |                   \n",
      "q2: -----H-----Rx[2]---Ry[6]-------------CZ------◯-----Rx[10]--Ry[14]------------CZ------◯-----Rx[18]\n",
      "                                                 |                                       |           \n",
      "q3: -----H-----Rx[3]---Ry[7]---------------------CZ----Rx[11]--Ry[15]--------------------CZ----Rx[19]\n"
     ]
    }
   ],
   "source": [
    "qujax.print_circuit(gates, qubit_inds, param_inds, gate_ind_max=30);"
   ]
  },
  {
   "cell_type": "markdown",
   "id": "a426bd88",
   "metadata": {
    "pycharm": {
     "name": "#%% md\n"
    }
   },
   "source": [
    "# Now let's invoke qujax\n",
    "\n",
    "The `qujax.get_params_to_statetensor_func` function will generate a parameters -> statetensor function for us.\n",
    "\n",
    "Note that this function also has an optional second argument where an initiating `statetensor_in` can be provided. If it is not provided it will default to the all 0s state (as we use here).\n",
    "\n",
    "Be aware that we still have convention where parameters are specified as multiples of $\\pi$ - that is in [0,2]."
   ]
  },
  {
   "cell_type": "code",
   "execution_count": 9,
   "id": "f07c100c",
   "metadata": {
    "pycharm": {
     "name": "#%%\n"
    }
   },
   "outputs": [],
   "source": [
    "param_to_st = qujax.get_params_to_statetensor_func(gates, qubit_inds, param_inds)"
   ]
  },
  {
   "cell_type": "markdown",
   "id": "101ecd28",
   "metadata": {
    "pycharm": {
     "name": "#%% md\n"
    }
   },
   "source": [
    "Let's try it out on some random parameters values. Be aware that's JAX's random number generator requires a `jax.random.PRNGkey` every time it's called - more info on that [here](https://jax.readthedocs.io/en/latest/jax.random.html)."
   ]
  },
  {
   "cell_type": "code",
   "execution_count": 10,
   "id": "5923a515",
   "metadata": {
    "pycharm": {
     "name": "#%%\n"
    }
   },
   "outputs": [
    {
     "data": {
      "text/plain": [
       "(2, 2, 2, 2)"
      ]
     },
     "execution_count": 10,
     "metadata": {},
     "output_type": "execute_result"
    }
   ],
   "source": [
    "params = random.uniform(random.PRNGKey(0), shape=(n_params,), minval=0., maxval=2.)\n",
    "statetensor = param_to_st(params)\n",
    "statetensor.shape"
   ]
  },
  {
   "cell_type": "markdown",
   "id": "61969245",
   "metadata": {
    "pycharm": {
     "name": "#%% md\n"
    }
   },
   "source": [
    "We can obtain statevector by simply calling `.flatten()`"
   ]
  },
  {
   "cell_type": "code",
   "execution_count": 11,
   "id": "0fc6e632",
   "metadata": {
    "pycharm": {
     "name": "#%%\n"
    }
   },
   "outputs": [
    {
     "data": {
      "text/plain": [
       "(16,)"
      ]
     },
     "execution_count": 11,
     "metadata": {},
     "output_type": "execute_result"
    }
   ],
   "source": [
    "statevector = statetensor.flatten()\n",
    "statevector.shape"
   ]
  },
  {
   "cell_type": "markdown",
   "id": "dec74ce9",
   "metadata": {
    "pycharm": {
     "name": "#%% md\n"
    }
   },
   "source": [
    "And sampling probabilities by squaring the absolute value of the statevector"
   ]
  },
  {
   "cell_type": "code",
   "execution_count": 12,
   "id": "8516eb27",
   "metadata": {
    "pycharm": {
     "name": "#%%\n"
    }
   },
   "outputs": [
    {
     "data": {
      "image/png": "[encoded data removed]",
      "text/plain": [
       "<Figure size 640x480 with 1 Axes>"
      ]
     },
     "metadata": {},
     "output_type": "display_data"
    }
   ],
   "source": [
    "sample_probs = jnp.square(jnp.abs(statevector))\n",
    "plt.bar(jnp.arange(statevector.size), sample_probs);"
   ]
  },
  {
   "cell_type": "markdown",
   "id": "6ce892ef",
   "metadata": {
    "pycharm": {
     "name": "#%% md\n"
    }
   },
   "source": [
    "# Cost function"
   ]
  },
  {
   "cell_type": "markdown",
   "id": "1637fd77",
   "metadata": {
    "pycharm": {
     "name": "#%% md\n"
    }
   },
   "source": [
    "Now we have our `param_to_st` function we are free to define a cost function that acts on bitstrings (e.g. maxcut) or integers by directly wrapping a function around `param_to_st`. However, cost functions defined via quantum Hamiltonians are a bit more involved.\n",
    "\n",
    "Fortunately, we can encode an Hamiltonian in JAX via the `qujax.get_statetensor_to_expectation_func` function which generates a statetensor -> expected value function for us.\n",
    "\n",
    "It takes three arguments as input\n",
    "- `gate_seq_seq`: A list of string (or array) lists encoding the gates in each term of the Hamiltonian. I.e. `[['X','X'], ['Y','Y'], ['Z','Z']]` corresponds to $H = aX_iX_j +  bY_kY_l + cZ_mZ_n$ with qubit indices $i,j,k,l,m,n$ specified in the second argument and coefficients $a,b,c$ specified in the third argument\n",
    "- `qubit_inds_seq`: A list of integer lists encoding which qubit indices to apply the aforementioned gates. I.e. `[[0, 1],[0,1],[0,1]]`. Must have the same structure as `gate_seq_seq` above.\n",
    "- `coefficients`: A list of floats encoding any coefficients in the Hamiltonian. I.e. `[2.3, 0.8, 1.2]` corresponds to $a=2.3,b=0.8,c=1.2$ above. Must have the same length as the two above arguments."
   ]
  },
  {
   "cell_type": "markdown",
   "id": "8ed3269a",
   "metadata": {
    "pycharm": {
     "name": "#%% md\n"
    }
   },
   "source": [
    "More specifically let's consider the problem of finding the ground state of the quantum Heisenberg Hamiltonian\n",
    "$$\n",
    "H = \\sum_{i=1}^{n_\\text{qubits}-1} X_i X_{i+1} + Y_i Y_{i+1} + Z_i Z_{i+1}.\n",
    "$$\n",
    "As described, we define the Hamiltonian via its gate strings, qubit indices and coefficients."
   ]
  },
  {
   "cell_type": "code",
   "execution_count": 13,
   "id": "8fb185ad",
   "metadata": {
    "pycharm": {
     "name": "#%%\n"
    }
   },
   "outputs": [],
   "source": [
    "hamiltonian_gates = [['X', 'X'], ['Y', 'Y'], ['Z', 'Z']] * (n_qubits - 1)\n",
    "hamiltonian_qubit_inds = [[int(i), int(i) + 1] for i in jnp.repeat(jnp.arange(n_qubits), 3)]\n",
    "coefficients = [1.] * len(hamiltonian_qubit_inds) "
   ]
  },
  {
   "cell_type": "code",
   "execution_count": 14,
   "id": "13697f06",
   "metadata": {
    "pycharm": {
     "name": "#%%\n"
    }
   },
   "outputs": [
    {
     "name": "stdout",
     "output_type": "stream",
     "text": [
      "Gates:\t [['X', 'X'], ['Y', 'Y'], ['Z', 'Z'], ['X', 'X'], ['Y', 'Y'], ['Z', 'Z'], ['X', 'X'], ['Y', 'Y'], ['Z', 'Z']]\n",
      "Qubits:\t [[0, 1], [0, 1], [0, 1], [1, 2], [1, 2], [1, 2], [2, 3], [2, 3], [2, 3], [3, 4], [3, 4], [3, 4]]\n",
      "Coefficients:\t [1.0, 1.0, 1.0, 1.0, 1.0, 1.0, 1.0, 1.0, 1.0, 1.0, 1.0, 1.0]\n"
     ]
    }
   ],
   "source": [
    "print('Gates:\\t', hamiltonian_gates)\n",
    "print('Qubits:\\t', hamiltonian_qubit_inds)\n",
    "print('Coefficients:\\t', coefficients)"
   ]
  },
  {
   "cell_type": "markdown",
   "id": "c5d8c1d5",
   "metadata": {
    "pycharm": {
     "name": "#%% md\n"
    }
   },
   "source": [
    "Now let's get the Hamiltonian as a pure JAX function"
   ]
  },
  {
   "cell_type": "code",
   "execution_count": 15,
   "id": "38ef7590",
   "metadata": {
    "pycharm": {
     "name": "#%%\n"
    }
   },
   "outputs": [],
   "source": [
    "st_to_expectation = qujax.get_statetensor_to_expectation_func(hamiltonian_gates,\n",
    "                                                             hamiltonian_qubit_inds,\n",
    "                                                             coefficients)"
   ]
  },
  {
   "cell_type": "markdown",
   "id": "47c43296",
   "metadata": {
    "pycharm": {
     "name": "#%% md\n"
    }
   },
   "source": [
    "Let's check it works on the statetensor we've already generated."
   ]
  },
  {
   "cell_type": "code",
   "execution_count": 16,
   "id": "d1993cde",
   "metadata": {
    "pycharm": {
     "name": "#%%\n"
    }
   },
   "outputs": [
    {
     "data": {
      "text/plain": [
       "Array(1.6290706, dtype=float32)"
      ]
     },
     "execution_count": 16,
     "metadata": {},
     "output_type": "execute_result"
    }
   ],
   "source": [
    "expected_val = st_to_expectation(statetensor)\n",
    "expected_val"
   ]
  },
  {
   "cell_type": "markdown",
   "id": "32bfdd1b",
   "metadata": {
    "pycharm": {
     "name": "#%% md\n"
    }
   },
   "source": [
    "Now let's wrap the `param_to_st` and `st_to_expectation` together to give us an all in one `param_to_expectation` cost function."
   ]
  },
  {
   "cell_type": "code",
   "execution_count": 17,
   "id": "eb30ed65",
   "metadata": {
    "pycharm": {
     "name": "#%%\n"
    }
   },
   "outputs": [],
   "source": [
    "param_to_expectation = lambda param: st_to_expectation(param_to_st(param))"
   ]
  },
  {
   "cell_type": "code",
   "execution_count": 18,
   "id": "60b614db",
   "metadata": {
    "pycharm": {
     "name": "#%%\n"
    }
   },
   "outputs": [
    {
     "data": {
      "text/plain": [
       "Array(1.6290706, dtype=float32)"
      ]
     },
     "execution_count": 18,
     "metadata": {},
     "output_type": "execute_result"
    }
   ],
   "source": [
    "param_to_expectation(params)"
   ]
  },
  {
   "cell_type": "markdown",
   "id": "2b05b208",
   "metadata": {
    "pycharm": {
     "name": "#%% md\n"
    }
   },
   "source": [
    "Sanity check that a different, randomly generated set of parameters gives us a new expected value."
   ]
  },
  {
   "cell_type": "code",
   "execution_count": 19,
   "id": "b60076d2",
   "metadata": {
    "pycharm": {
     "name": "#%%\n"
    }
   },
   "outputs": [
    {
     "data": {
      "text/plain": [
       "Array(0.2565445, dtype=float32)"
      ]
     },
     "execution_count": 19,
     "metadata": {},
     "output_type": "execute_result"
    }
   ],
   "source": [
    "new_params = random.uniform(random.PRNGKey(1), shape=(n_params,), minval=0., maxval=2.)\n",
    "param_to_expectation(new_params)"
   ]
  },
  {
   "cell_type": "markdown",
   "id": "0b9e8569",
   "metadata": {
    "pycharm": {
     "name": "#%% md\n"
    }
   },
   "source": [
    "# We can now use autodiff for fast, exact gradients within a VQE algorithm\n",
    "\n",
    "The `param_to_expectation` function we created is a pure JAX function and outputs a scalar. This means we can pass it to `jax.grad` (or even better `jax.value_and_grad`)."
   ]
  },
  {
   "cell_type": "code",
   "execution_count": 20,
   "id": "4a87a621",
   "metadata": {
    "pycharm": {
     "name": "#%%\n"
    }
   },
   "outputs": [],
   "source": [
    "cost_and_grad = value_and_grad(param_to_expectation)"
   ]
  },
  {
   "cell_type": "markdown",
   "id": "d63c88fb",
   "metadata": {
    "pycharm": {
     "name": "#%% md\n"
    }
   },
   "source": [
    "The `cost_and_grad` function returns a tuple with the exact cost value and exact gradient evaluated at the parameters."
   ]
  },
  {
   "cell_type": "code",
   "execution_count": 21,
   "id": "6e3236d8",
   "metadata": {
    "pycharm": {
     "name": "#%%\n"
    }
   },
   "outputs": [
    {
     "data": {
      "text/plain": [
       "(Array(1.6290706, dtype=float32),\n",
       " Array([ 9.3626761e-07,  5.6176054e-07,  6.0857394e-07,  4.6813381e-07,\n",
       "         2.5579420e-01,  9.2308128e-01, -2.2530050e+00, -2.1122539e+00,\n",
       "         1.7944418e+00,  5.6182927e-01, -1.0677941e+00, -1.7813085e-01,\n",
       "         5.0560904e-01, -1.4611506e+00,  5.2151042e-01, -2.5418801e+00,\n",
       "         4.8420203e-01, -7.3182994e-01,  1.4512728e-01,  1.4524205e-01,\n",
       "         5.1464313e-01, -5.8293301e-01, -9.7354606e-02,  1.6564427e-01],      dtype=float32))"
      ]
     },
     "execution_count": 21,
     "metadata": {},
     "output_type": "execute_result"
    }
   ],
   "source": [
    "cost_and_grad(params)"
   ]
  },
  {
   "cell_type": "markdown",
   "id": "865f0d46",
   "metadata": {
    "pycharm": {
     "name": "#%% md\n"
    }
   },
   "source": [
    "# Now we have all the tools we need to design our VQE!\n",
    "\n",
    "We'll just use vanilla gradient descent with a constant stepsize"
   ]
  },
  {
   "cell_type": "code",
   "execution_count": 22,
   "id": "5542daee",
   "metadata": {
    "pycharm": {
     "name": "#%%\n"
    }
   },
   "outputs": [],
   "source": [
    "def vqe(init_param, n_steps, stepsize):\n",
    "    params = jnp.zeros((n_steps, n_params))\n",
    "    params = params.at[0].set(init_param)\n",
    "    \n",
    "    cost_vals = jnp.zeros(n_steps)\n",
    "    cost_vals = cost_vals.at[0].set(param_to_expectation(init_param))\n",
    "    \n",
    "    for step in range(1, n_steps):\n",
    "        cost_val, cost_grad = cost_and_grad(params[step - 1])\n",
    "        cost_vals = cost_vals.at[step].set(cost_val)\n",
    "\n",
    "        new_param = params[step - 1] - stepsize * cost_grad\n",
    "        params = params.at[step].set(new_param)\n",
    "\n",
    "        print('Iteration:', step, '\\tCost:', cost_val, end='\\r')\n",
    "    print('\\n')\n",
    "    return params, cost_vals"
   ]
  },
  {
   "cell_type": "markdown",
   "id": "d0c31746",
   "metadata": {
    "pycharm": {
     "name": "#%% md\n"
    }
   },
   "source": [
    "Ok enough talking, let's run (and whilst we're at it we'll time it too)"
   ]
  },
  {
   "cell_type": "code",
   "execution_count": 23,
   "id": "6ab37761",
   "metadata": {
    "pycharm": {
     "name": "#%%\n"
    }
   },
   "outputs": [
    {
     "name": "stdout",
     "output_type": "stream",
     "text": [
      "Iteration: 249 \tCost: -6.32724666.323721\n",
      "\n",
      "CPU times: user 22.3 s, sys: 245 ms, total: 22.5 s\n",
      "Wall time: 22.4 s\n"
     ]
    }
   ],
   "source": [
    "%time vqe_params, vqe_cost_vals = vqe(params, n_steps=250, stepsize=0.01)"
   ]
  },
  {
   "cell_type": "markdown",
   "id": "d3118009",
   "metadata": {
    "pycharm": {
     "name": "#%% md\n"
    }
   },
   "source": [
    "Let's plot the results..."
   ]
  },
  {
   "cell_type": "code",
   "execution_count": 24,
   "id": "412e401f",
   "metadata": {
    "pycharm": {
     "name": "#%%\n"
    }
   },
   "outputs": [
    {
     "data": {
      "image/png": "[encoded data removed]",
      "text/plain": [
       "<Figure size 640x480 with 1 Axes>"
      ]
     },
     "metadata": {},
     "output_type": "display_data"
    }
   ],
   "source": [
    "plt.plot(vqe_cost_vals)\n",
    "plt.xlabel('Iteration')\n",
    "plt.ylabel('Cost');"
   ]
  },
  {
   "cell_type": "markdown",
   "id": "b66e6f51",
   "metadata": {
    "pycharm": {
     "name": "#%% md\n"
    }
   },
   "source": [
    "Pretty good!"
   ]
  },
  {
   "cell_type": "markdown",
   "id": "f5c123b1",
   "metadata": {
    "pycharm": {
     "name": "#%% md\n"
    }
   },
   "source": [
    "# `jax.jit` speedup\n",
    "\n",
    "One last thing... We can significantly speed up the VQE above via the `jax.jit`. In our current implementation, the expensive `cost_and_grad` function is compiled to [XLA](https://www.tensorflow.org/xla)  and then executed at each call. By invoking `jax.jit` we ensure that the function is compiled only once (on the first call) and then simply executed at each future call - this is much faster!"
   ]
  },
  {
   "cell_type": "code",
   "execution_count": 25,
   "id": "82306475",
   "metadata": {
    "pycharm": {
     "name": "#%%\n"
    }
   },
   "outputs": [],
   "source": [
    "cost_and_grad = jit(cost_and_grad)"
   ]
  },
  {
   "cell_type": "markdown",
   "id": "10ddb968",
   "metadata": {
    "pycharm": {
     "name": "#%% md\n"
    }
   },
   "source": [
    "We'll demonstrate this using the second set of initial parameters we randomly generated (to be sure of no caching)."
   ]
  },
  {
   "cell_type": "code",
   "execution_count": 26,
   "id": "82aa0dea",
   "metadata": {
    "pycharm": {
     "name": "#%%\n"
    }
   },
   "outputs": [
    {
     "name": "stdout",
     "output_type": "stream",
     "text": [
      "Iteration: 249 \tCost: -6.3270717\n",
      "\n",
      "CPU times: user 1.65 s, sys: 23.9 ms, total: 1.67 s\n",
      "Wall time: 1.22 s\n"
     ]
    }
   ],
   "source": [
    "%time new_vqe_params, new_vqe_cost_vals = vqe(new_params, n_steps=250, stepsize=0.01)"
   ]
  },
  {
   "cell_type": "markdown",
   "id": "f52ae1b2",
   "metadata": {
    "pycharm": {
     "name": "#%% md\n"
    }
   },
   "source": [
    "That's some speedup!\n",
    "\n",
    "But let's also plot the training to be sure it converged correctly"
   ]
  },
  {
   "cell_type": "code",
   "execution_count": 27,
   "id": "38f8b69b",
   "metadata": {
    "pycharm": {
     "name": "#%%\n"
    }
   },
   "outputs": [
    {
     "data": {
      "image/png": "[encoded data removed]",
      "text/plain": [
       "<Figure size 640x480 with 1 Axes>"
      ]
     },
     "metadata": {},
     "output_type": "display_data"
    }
   ],
   "source": [
    "plt.plot(new_vqe_cost_vals)\n",
    "plt.xlabel('Iteration')\n",
    "plt.ylabel('Cost');"
   ]
  }
 ],
 "metadata": {
  "kernelspec": {
   "display_name": "Python 3 (ipykernel)",
   "language": "python",
   "name": "python3"
  },
  "language_info": {
   "codemirror_mode": {
    "name": "ipython",
    "version": 3
   },
   "file_extension": ".py",
   "mimetype": "text/x-python",
   "name": "python",
   "nbconvert_exporter": "python",
   "pygments_lexer": "ipython3",
   "version": "3.11.1"
  }
 },
 "nbformat": 4,
 "nbformat_minor": 5
}
