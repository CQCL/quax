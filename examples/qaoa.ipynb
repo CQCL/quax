{
 "cells": [
  {
   "cell_type": "markdown",
   "id": "a52b609d",
   "metadata": {},
   "source": [
    "# QAOA with `qujax`\n",
    "\n",
    "In this notebook, we will consider QAOA on an Ising Hamiltonian. In particular, we will demonstrate how to encode a circuit with parameters that control multiple gates."
   ]
  },
  {
   "cell_type": "code",
   "execution_count": 1,
   "id": "2678d061",
   "metadata": {},
   "outputs": [],
   "source": [
    "from jax import numpy as jnp, random, value_and_grad, jit\n",
    "import matplotlib.pyplot as plt\n",
    "\n",
    "import qujax"
   ]
  },
  {
   "cell_type": "markdown",
   "id": "57aaa7eb",
   "metadata": {},
   "source": [
    "# QAOA\n",
    "\n",
    "The Quantum Approximate Optimization Algorithm (QAOA), first introduced by [Farhi et al.](https://arxiv.org/pdf/1411.4028.pdf), is a quantum variational algorithm used to solve optimization problems. It consists of a unitary $U(\\beta, \\gamma)$ formed by alternate repetitions of $U(\\beta)=e^{-i\\beta H_B}$ and $U(\\gamma)=e^{-i\\gamma H_P}$, where $H_B$ is the mixing Hamiltonian and $H_P$ the problem Hamiltonian. The goal is to find the optimal parameters that minimize $H_P$.\n",
    "\n",
    "Given a depth $d$, the expression of the final unitary is $U(\\beta, \\gamma) = U(\\beta_d)U(\\gamma_d)\\cdots U(\\beta_1)U(\\gamma_1)$. Notice that for each repetition the parameters are different.\n",
    "\n",
    "\n",
    "## Problem Hamiltonian\n",
    "QAOA uses a problem dependent ansatz. Therefore, we first need to know the problem that we want to solve. In this case we will consider an Ising Hamiltonian with only $Z$ interactions. Given a set of pairs (or qubit indices) $E$, the problem Hamiltonian will be:\n",
    "$$H_P = \\sum_{(i, j) \\in E}\\alpha_{ij}Z_iZ_j,$$ \n",
    "where $\\alpha_{ij}$ are the coefficients.\n",
    "\n",
    "Let's build our problem Hamiltonian with random coefficients and a set of pairs for a given number of qubits:"
   ]
  },
  {
   "cell_type": "code",
   "execution_count": 2,
   "id": "6602f4ad",
   "metadata": {},
   "outputs": [],
   "source": [
    "n_qubits = 4\n",
    "hamiltonian_qubit_inds = [(0, 1), (1, 2), (0, 2), (1, 3)]\n",
    "hamiltonian_gates = [['Z', 'Z']] * (len(hamiltonian_qubit_inds))\n",
    "\n",
    "\n",
    "# Notice that in order to use the random package from jax we first need to define a seeded key\n",
    "seed = 13\n",
    "key = random.PRNGKey(seed)\n",
    "coefficients = random.uniform(key, shape=(len(hamiltonian_qubit_inds), ))"
   ]
  },
  {
   "cell_type": "code",
   "execution_count": 3,
   "id": "e80df4ff",
   "metadata": {},
   "outputs": [
    {
     "name": "stdout",
     "output_type": "stream",
     "text": [
      "Gates:\t [['Z', 'Z'], ['Z', 'Z'], ['Z', 'Z'], ['Z', 'Z']]\n",
      "Qubits:\t [(0, 1), (1, 2), (0, 2), (1, 3)]\n",
      "Coefficients:\t [0.6794174  0.2963785  0.2863201  0.31746793]\n"
     ]
    }
   ],
   "source": [
    "print('Gates:\\t', hamiltonian_gates)\n",
    "print('Qubits:\\t', hamiltonian_qubit_inds)\n",
    "print('Coefficients:\\t', coefficients)"
   ]
  },
  {
   "cell_type": "markdown",
   "id": "b03a1f9d",
   "metadata": {},
   "source": [
    "## Variational Circuit\n",
    "\n",
    "Before constructing the circuit, we still need to select the mixing Hamiltonian. In our case, we will be using $X$ gates in each qubit, so $H_B = \\sum_{i=1}^{n}X_i$, where $n$ is the number of qubits. Notice that the unitary $U(\\beta)$, given this mixing Hamiltonian, is an $X$ rotation in each qubit with angle $\\beta$.\n",
    "\n",
    "As for the unitary corresponding to the problem Hamiltonian, $U(\\gamma)$, it has the following form:\n",
    "$$U(\\gamma)=\\prod_{(i, j) \\in E}e^{-i\\gamma\\alpha_{ij}Z_iZ_j}$$ \n",
    "\n",
    "The operation $e^{-i\\gamma\\alpha_{ij}Z_iZ_j}$ can be performed using two CNOT gates with qubit $i$ as control and qubit $j$ as target and a $Z$ rotation in qubit $j$ in between them, with angle $\\gamma\\alpha_{ij}$.\n",
    "\n",
    "Finally, the initial state used, in general, with the QAOA is an equal superposition of all the basis states. This can be achieved adding a first layer of Hadamard gates in each qubit at the beginning of the circuit."
   ]
  },
  {
   "cell_type": "code",
   "execution_count": 4,
   "id": "008e895f",
   "metadata": {},
   "outputs": [],
   "source": [
    "depth = 3"
   ]
  },
  {
   "cell_type": "code",
   "execution_count": 5,
   "id": "cf0fbfaa",
   "metadata": {},
   "outputs": [],
   "source": [
    "circuit_gates = []\n",
    "circuit_qubit_inds = []\n",
    "circuit_param_inds =[]\n",
    "\n",
    "param_ind = 0\n",
    "\n",
    "# Initial State\n",
    "for i in range(n_qubits):\n",
    "    circuit_gates.append('H')\n",
    "    circuit_qubit_inds.append([i])\n",
    "    circuit_param_inds.append([])\n",
    "    \n",
    "for d in range(depth):\n",
    "    \n",
    "    # Mixing Unitary\n",
    "    for i in range(n_qubits):\n",
    "        circuit_gates.append('Rx')\n",
    "        circuit_qubit_inds.append([i])\n",
    "        circuit_param_inds.append([param_ind])\n",
    "    param_ind += 1\n",
    "\n",
    "    # Hamiltonian\n",
    "    for index in range(len(hamiltonian_qubit_inds)):\n",
    "        pair = hamiltonian_qubit_inds[index]\n",
    "        coef = coefficients[index]\n",
    "        \n",
    "        circuit_gates.append('CX')\n",
    "        circuit_qubit_inds.append([pair[0], pair[1]])\n",
    "        circuit_param_inds.append([])\n",
    "        \n",
    "        circuit_gates.append(lambda p: qujax.gates.Rz(p * coef))\n",
    "        circuit_qubit_inds.append([pair[1]])\n",
    "        circuit_param_inds.append([param_ind])\n",
    "        \n",
    "        circuit_gates.append('CX')\n",
    "        circuit_qubit_inds.append([pair[0], pair[1]])\n",
    "        circuit_param_inds.append([])\n",
    "    param_ind += 1"
   ]
  },
  {
   "cell_type": "markdown",
   "id": "24ce1e3c",
   "metadata": {},
   "source": [
    "Let's check the circuit:"
   ]
  },
  {
   "cell_type": "code",
   "execution_count": 6,
   "id": "c3fb239c",
   "metadata": {
    "scrolled": false
   },
   "outputs": [
    {
     "name": "stdout",
     "output_type": "stream",
     "text": [
      "q0: -----H-----Rx[0]-----◯---------------◯-------------------------------◯---------------◯---------------------Rx[2]-\n",
      "                         |               |                               |               |                           \n",
      "q1: -----H-----Rx[0]-----CX---Func[1]----CX------◯---------------◯-------|---------------|-------◯---------------◯---\n",
      "                                                 |               |       |               |       |               |   \n",
      "q2: -----H-----Rx[0]-----------------------------CX---Func[1]----CX------CX---Func[1]----CX------|---------------|---\n",
      "                                                                                                 |               |   \n",
      "q3: -----H-----Rx[0]-----------------------------------------------------------------------------CX---Func[1]----CX--\n"
     ]
    }
   ],
   "source": [
    "qujax.print_circuit(circuit_gates, circuit_qubit_inds, circuit_param_inds,\n",
    "                    gate_ind_max=20);"
   ]
  },
  {
   "cell_type": "markdown",
   "id": "8c421d1d",
   "metadata": {},
   "source": [
    "Then, we invoke the `qujax.get_params_to_statetensor_func`"
   ]
  },
  {
   "cell_type": "code",
   "execution_count": 7,
   "id": "1af80d12",
   "metadata": {},
   "outputs": [],
   "source": [
    "param_to_st = qujax.get_params_to_statetensor_func(circuit_gates, circuit_qubit_inds, circuit_param_inds)"
   ]
  },
  {
   "cell_type": "markdown",
   "id": "689e7811",
   "metadata": {},
   "source": [
    "And we also construct the expectation map using the problem Hamiltonian via qujax: "
   ]
  },
  {
   "cell_type": "code",
   "execution_count": 8,
   "id": "0857d4bb",
   "metadata": {},
   "outputs": [],
   "source": [
    "st_to_expectation = qujax.get_statetensor_to_expectation_func(hamiltonian_gates,\n",
    "                                                              hamiltonian_qubit_inds,\n",
    "                                                              coefficients)\n",
    "\n",
    "param_to_expectation = lambda param: st_to_expectation(param_to_st(param))"
   ]
  },
  {
   "cell_type": "markdown",
   "id": "6144236c",
   "metadata": {},
   "source": [
    "# Training process\n",
    "We construct a function that, given a parameter vector, returns the value of the cost function and the gradient (we also `jit` to avoid recompilation):"
   ]
  },
  {
   "cell_type": "code",
   "execution_count": 9,
   "id": "069331d5",
   "metadata": {},
   "outputs": [],
   "source": [
    "cost_and_grad = jit(value_and_grad(param_to_expectation))"
   ]
  },
  {
   "cell_type": "markdown",
   "id": "8f8e0741",
   "metadata": {},
   "source": [
    "For the training process we'll use vanilla gradient descent with a constant stepsize:"
   ]
  },
  {
   "cell_type": "code",
   "execution_count": 10,
   "id": "b28018e2",
   "metadata": {},
   "outputs": [],
   "source": [
    "seed = 123\n",
    "key = random.PRNGKey(seed)\n",
    "init_param = random.uniform(key, shape=(param_ind, ))\n",
    "\n",
    "n_steps = 150\n",
    "stepsize = 0.01"
   ]
  },
  {
   "cell_type": "code",
   "execution_count": 11,
   "id": "c0f53be5",
   "metadata": {},
   "outputs": [
    {
     "name": "stdout",
     "output_type": "stream",
     "text": [
      "Iteration: 1 \tCost: -0.09861969\r",
      "Iteration: 2 \tCost: -0.30488127\r",
      "Iteration: 3 \tCost: -0.43221825\r",
      "Iteration: 4 \tCost: -0.49104044\r",
      "Iteration: 5 \tCost: -0.51378363\r",
      "Iteration: 6 \tCost: -0.5220106\r",
      "Iteration: 7 \tCost: -0.52507806\r",
      "Iteration: 8 \tCost: -0.5263982\r",
      "Iteration: 9 \tCost: -0.52713084\r",
      "Iteration: 10 \tCost: -0.5276594\r",
      "Iteration: 11 \tCost: -0.5281093\r",
      "Iteration: 12 \tCost: -0.5285234\r",
      "Iteration: 13 \tCost: -0.5289158\r",
      "Iteration: 14 \tCost: -0.5292916\r",
      "Iteration: 15 \tCost: -0.5296537\r",
      "Iteration: 16 \tCost: -0.53000385\r",
      "Iteration: 17 \tCost: -0.5303429\r",
      "Iteration: 18 \tCost: -0.5306716\r",
      "Iteration: 19 \tCost: -0.5309909\r",
      "Iteration: 20 \tCost: -0.5313021\r",
      "Iteration: 21 \tCost: -0.53160506\r",
      "Iteration: 22 \tCost: -0.53190106\r",
      "Iteration: 23 \tCost: -0.53219026\r",
      "Iteration: 24 \tCost: -0.5324728\r",
      "Iteration: 25 \tCost: -0.53274995\r",
      "Iteration: 26 \tCost: -0.533021\r",
      "Iteration: 27 \tCost: -0.5332869\r",
      "Iteration: 28 \tCost: -0.53354824\r",
      "Iteration: 29 \tCost: -0.5338048\r",
      "Iteration: 30 \tCost: -0.53405714\r",
      "Iteration: 31 \tCost: -0.5343054\r",
      "Iteration: 32 \tCost: -0.53454924\r",
      "Iteration: 33 \tCost: -0.5347898\r",
      "Iteration: 34 \tCost: -0.53502667\r",
      "Iteration: 35 \tCost: -0.5352601\r",
      "Iteration: 36 \tCost: -0.53549004\r",
      "Iteration: 37 \tCost: -0.53571683\r",
      "Iteration: 38 \tCost: -0.5359408\r",
      "Iteration: 39 \tCost: -0.5361613\r",
      "Iteration: 40 \tCost: -0.5363793\r",
      "Iteration: 41 \tCost: -0.53659475\r",
      "Iteration: 42 \tCost: -0.5368071\r",
      "Iteration: 43 \tCost: -0.53701735\r",
      "Iteration: 44 \tCost: -0.5372245\r",
      "Iteration: 45 \tCost: -0.5374299\r",
      "Iteration: 46 \tCost: -0.5376322\r",
      "Iteration: 47 \tCost: -0.53783244\r",
      "Iteration: 48 \tCost: -0.5380306\r",
      "Iteration: 49 \tCost: -0.53822607\r",
      "Iteration: 50 \tCost: -0.53841996\r",
      "Iteration: 51 \tCost: -0.53861094\r",
      "Iteration: 52 \tCost: -0.53880095\r",
      "Iteration: 53 \tCost: -0.53898793\r",
      "Iteration: 54 \tCost: -0.5391733\r",
      "Iteration: 55 \tCost: -0.5393568\r",
      "Iteration: 56 \tCost: -0.5395382\r",
      "Iteration: 57 \tCost: -0.53971833\r",
      "Iteration: 58 \tCost: -0.53989595\r",
      "Iteration: 59 \tCost: -0.54007185\r",
      "Iteration: 60 \tCost: -0.5402465\r",
      "Iteration: 61 \tCost: -0.54041874\r",
      "Iteration: 62 \tCost: -0.5405901\r",
      "Iteration: 63 \tCost: -0.5407588\r",
      "Iteration: 64 \tCost: -0.5409268\r",
      "Iteration: 65 \tCost: -0.54109275\r",
      "Iteration: 66 \tCost: -0.5412577\r",
      "Iteration: 67 \tCost: -0.54141986\r",
      "Iteration: 68 \tCost: -0.5415817\r",
      "Iteration: 69 \tCost: -0.5417414\r",
      "Iteration: 70 \tCost: -0.5419003\r",
      "Iteration: 71 \tCost: -0.5420571\r",
      "Iteration: 72 \tCost: -0.5422127\r",
      "Iteration: 73 \tCost: -0.5423671\r",
      "Iteration: 74 \tCost: -0.5425201\r",
      "Iteration: 75 \tCost: -0.5426715\r",
      "Iteration: 76 \tCost: -0.54282165\r",
      "Iteration: 77 \tCost: -0.54297113\r",
      "Iteration: 78 \tCost: -0.5431187\r",
      "Iteration: 79 \tCost: -0.543265\r",
      "Iteration: 80 \tCost: -0.5434102\r",
      "Iteration: 81 \tCost: -0.54355454\r",
      "Iteration: 82 \tCost: -0.54369736\r",
      "Iteration: 83 \tCost: -0.5438389\r",
      "Iteration: 84 \tCost: -0.5439794\r",
      "Iteration: 85 \tCost: -0.54411876\r",
      "Iteration: 86 \tCost: -0.54425716\r",
      "Iteration: 87 \tCost: -0.5443945\r",
      "Iteration: 88 \tCost: -0.5445305\r",
      "Iteration: 89 \tCost: -0.5446654\r",
      "Iteration: 90 \tCost: -0.5447996\r",
      "Iteration: 91 \tCost: -0.5449326\r",
      "Iteration: 92 \tCost: -0.54506487\r",
      "Iteration: 93 \tCost: -0.54519576\r",
      "Iteration: 94 \tCost: -0.5453257\r",
      "Iteration: 95 \tCost: -0.5454546\r",
      "Iteration: 96 \tCost: -0.545583\r",
      "Iteration: 97 \tCost: -0.5457101\r",
      "Iteration: 98 \tCost: -0.54583657\r",
      "Iteration: 99 \tCost: -0.5459618\r",
      "Iteration: 100 \tCost: -0.54608655\r",
      "Iteration: 101 \tCost: -0.54621017\r",
      "Iteration: 102 \tCost: -0.54633296\r",
      "Iteration: 103 \tCost: -0.54645467\r",
      "Iteration: 104 \tCost: -0.54657626\r",
      "Iteration: 105 \tCost: -0.54669654\r",
      "Iteration: 106 \tCost: -0.54681575\r",
      "Iteration: 107 \tCost: -0.5469348\r",
      "Iteration: 108 \tCost: -0.5470527\r",
      "Iteration: 109 \tCost: -0.54716986\r",
      "Iteration: 110 \tCost: -0.54728657\r",
      "Iteration: 111 \tCost: -0.5474022\r",
      "Iteration: 112 \tCost: -0.5475172\r",
      "Iteration: 113 \tCost: -0.5476318\r",
      "Iteration: 114 \tCost: -0.5477449\r",
      "Iteration: 115 \tCost: -0.5478576\r",
      "Iteration: 116 \tCost: -0.54797024\r",
      "Iteration: 117 \tCost: -0.5480816\r",
      "Iteration: 118 \tCost: -0.548192\r",
      "Iteration: 119 \tCost: -0.54830235\r",
      "Iteration: 120 \tCost: -0.5484118\r",
      "Iteration: 121 \tCost: -0.54852045\r",
      "Iteration: 122 \tCost: -0.548629\r",
      "Iteration: 123 \tCost: -0.5487364\r",
      "Iteration: 124 \tCost: -0.5488433\r",
      "Iteration: 125 \tCost: -0.5489498\r",
      "Iteration: 126 \tCost: -0.54905534\r",
      "Iteration: 127 \tCost: -0.5491607\r",
      "Iteration: 128 \tCost: -0.5492652\r",
      "Iteration: 129 \tCost: -0.54936945\r",
      "Iteration: 130 \tCost: -0.54947305\r",
      "Iteration: 131 \tCost: -0.54957575\r",
      "Iteration: 132 \tCost: -0.5496777\r",
      "Iteration: 133 \tCost: -0.5497798\r",
      "Iteration: 134 \tCost: -0.5498811\r",
      "Iteration: 135 \tCost: -0.5499818\r",
      "Iteration: 136 \tCost: -0.5500822\r",
      "Iteration: 137 \tCost: -0.5501819\r",
      "Iteration: 138 \tCost: -0.550281\r",
      "Iteration: 139 \tCost: -0.55037963\r",
      "Iteration: 140 \tCost: -0.55047804\r",
      "Iteration: 141 \tCost: -0.5505761\r",
      "Iteration: 142 \tCost: -0.55067325\r",
      "Iteration: 143 \tCost: -0.5507698\r",
      "Iteration: 144 \tCost: -0.55086654\r",
      "Iteration: 145 \tCost: -0.5509624\r",
      "Iteration: 146 \tCost: -0.5510575\r",
      "Iteration: 147 \tCost: -0.55115235\r",
      "Iteration: 148 \tCost: -0.55124706\r",
      "Iteration: 149 \tCost: -0.5513411\r"
     ]
    }
   ],
   "source": [
    "param = init_param\n",
    "\n",
    "cost_vals = jnp.zeros(n_steps)\n",
    "cost_vals = cost_vals.at[0].set(param_to_expectation(init_param))\n",
    "\n",
    "for step in range(1, n_steps):\n",
    "    cost_val, cost_grad = cost_and_grad(param)\n",
    "    cost_vals = cost_vals.at[step].set(cost_val)\n",
    "    param = param - stepsize * cost_grad\n",
    "    print('Iteration:', step, '\\tCost:', cost_val, end='\\r')"
   ]
  },
  {
   "cell_type": "markdown",
   "id": "b9305afc",
   "metadata": {},
   "source": [
    "Let's visualise the gradient descent"
   ]
  },
  {
   "cell_type": "code",
   "execution_count": 12,
   "id": "114ed37d",
   "metadata": {},
   "outputs": [
    {
     "data": {
      "image/png": "[encoded data removed]",
      "text/plain": [
       "<Figure size 432x288 with 1 Axes>"
      ]
     },
     "metadata": {
      "needs_background": "light"
     },
     "output_type": "display_data"
    }
   ],
   "source": [
    "plt.plot(cost_vals)\n",
    "plt.xlabel('Iteration')\n",
    "plt.ylabel('Cost');"
   ]
  }
 ],
 "metadata": {
  "kernelspec": {
   "display_name": "Python 3 (ipykernel)",
   "language": "python",
   "name": "python3"
  },
  "language_info": {
   "codemirror_mode": {
    "name": "ipython",
    "version": 3
   },
   "file_extension": ".py",
   "mimetype": "text/x-python",
   "name": "python",
   "nbconvert_exporter": "python",
   "pygments_lexer": "ipython3",
   "version": "3.9.10"
  }
 },
 "nbformat": 4,
 "nbformat_minor": 5
}
