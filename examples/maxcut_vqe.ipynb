{
 "cells": [
  {
   "cell_type": "markdown",
   "id": "f0141176",
   "metadata": {},
   "source": [
    "# In the beginning... there were imports and global parameters"
   ]
  },
  {
   "cell_type": "code",
   "execution_count": 1,
   "id": "0a04f31b",
   "metadata": {
    "pycharm": {
     "name": "#%%\n"
    }
   },
   "outputs": [],
   "source": [
    "from jax import numpy as jnp, random, vmap, value_and_grad\n",
    "from jax.lax import scan\n",
    "import networkx\n",
    "import matplotlib.pyplot as plt\n",
    "import optax\n",
    "\n",
    "import qujax"
   ]
  },
  {
   "cell_type": "code",
   "execution_count": 2,
   "id": "c9eae32d",
   "metadata": {},
   "outputs": [],
   "source": [
    "n_nodes = 6\n",
    "degree = 3\n",
    "n_qubits = n_nodes - 1\n",
    "circuit_depth = 2\n",
    "init_rad = 0.001 / jnp.pi\n",
    "stepsize = 1e-3\n",
    "n_shots = 100\n",
    "n_steps = 1000\n",
    "random_key = random.PRNGKey(0)"
   ]
  },
  {
   "cell_type": "code",
   "execution_count": 3,
   "id": "24cdc8e0",
   "metadata": {},
   "outputs": [],
   "source": [
    "graph_key, weights_key, init_key, train_key = random.split(random_key, 4)"
   ]
  },
  {
   "cell_type": "markdown",
   "id": "a83ec951",
   "metadata": {},
   "source": [
    "# Then came the problem specification\n",
    "\n",
    "In this case the maximal cutting a degree three, regular graph with six nodes and randomly weighted edges. Note that this corresponds to a five qubit maxcut problem since the first node can be labelled as zero by default.\n",
    "\n",
    "Recall that a maxcut problem is the problem of finding the _binary labelling of nodes such that the sum of edge weights for edges with differing nodes_ is maximised."
   ]
  },
  {
   "cell_type": "code",
   "execution_count": 4,
   "id": "6e56440e",
   "metadata": {},
   "outputs": [],
   "source": [
    "nx_graph = networkx.generators.random_graphs.random_regular_graph(degree, n_nodes, seed=int(graph_key[-1]))\n",
    "edge_inds = jnp.array(nx_graph.edges)\n",
    "weights = random.uniform(weights_key, shape=(len(edge_inds),))"
   ]
  },
  {
   "cell_type": "code",
   "execution_count": 5,
   "id": "4d8e9904",
   "metadata": {},
   "outputs": [
    {
     "data": {
      "image/png": "[encoded data removed]",
      "text/plain": [
       "<Figure size 432x288 with 1 Axes>"
      ]
     },
     "metadata": {},
     "output_type": "display_data"
    }
   ],
   "source": [
    "pos = networkx.spring_layout(nx_graph)\n",
    "networkx.draw_networkx_nodes(nx_graph, pos)\n",
    "networkx.draw_networkx_labels(nx_graph, pos, font_color='white')\n",
    "networkx.draw_networkx_edges(nx_graph, pos)\n",
    "networkx.draw_networkx_edge_labels(nx_graph, pos, label_pos=0.35,\n",
    "                                   edge_labels={tuple(e):f'{w:.2f}' for e, w in zip(edge_inds.tolist(), weights)})\n",
    "plt.axis('off');"
   ]
  },
  {
   "cell_type": "markdown",
   "id": "d645f43d",
   "metadata": {},
   "source": [
    "The cost function can then be defined directly on a bitstring"
   ]
  },
  {
   "cell_type": "code",
   "execution_count": 6,
   "id": "83a7ff80",
   "metadata": {},
   "outputs": [],
   "source": [
    "def cost_of_bitstring(z):\n",
    "    z = jnp.append(0, z)\n",
    "\n",
    "    def get_z_edge_weight(ei, w):\n",
    "        i, j = ei\n",
    "        return jnp.where(z[i] != z[j], w, 0.)\n",
    "\n",
    "    return -vmap(get_z_edge_weight)(edge_inds, weights).sum()"
   ]
  },
  {
   "cell_type": "markdown",
   "id": "41305814",
   "metadata": {
    "pycharm": {
     "name": "#%% md\n"
    }
   },
   "source": [
    "# Then comes the quantum circuit\n",
    "\n",
    "The quantum circuit is comprised of a series of gates, some of which are entangling, some of which are parameterised..."
   ]
  },
  {
   "cell_type": "code",
   "execution_count": 7,
   "id": "c797439d",
   "metadata": {
    "pycharm": {
     "name": "#%%\n"
    }
   },
   "outputs": [],
   "source": [
    "def get_circuit(n_qubits, depth):\n",
    "    \n",
    "    n_params = 2 * n_qubits * (depth + 1)\n",
    "    \n",
    "    \n",
    "    gates = ['H'] * n_qubits + ['Rx'] * n_qubits + ['Rz'] * n_qubits\n",
    "    qubit_inds = [[i] for i in range(n_qubits)] * 3\n",
    "    param_inds = [[]] * n_qubits + [[i] for i in range(n_qubits * 2)]\n",
    "    \n",
    "    k = 2 * n_qubits\n",
    "\n",
    "    for _ in range(depth):\n",
    "        for i in range(0, n_qubits - 1):\n",
    "            gates.append('CZ')\n",
    "            qubit_inds.append([i, i + 1])\n",
    "            param_inds.append([])\n",
    "        for i in range(n_qubits):\n",
    "            gates.append('Rx')\n",
    "            qubit_inds.append([i])\n",
    "            param_inds.append([k])\n",
    "            k += 1\n",
    "        for i in range(n_qubits):\n",
    "            gates.append('Ry')\n",
    "            qubit_inds.append([i])\n",
    "            param_inds.append([k])\n",
    "            k += 1\n",
    "    return gates, qubit_inds, param_inds, n_params"
   ]
  },
  {
   "cell_type": "code",
   "execution_count": 8,
   "id": "0f9a5981",
   "metadata": {},
   "outputs": [],
   "source": [
    "gates, qubit_inds, param_inds, n_params = get_circuit(n_qubits, circuit_depth)"
   ]
  },
  {
   "cell_type": "code",
   "execution_count": 9,
   "id": "e617b462",
   "metadata": {},
   "outputs": [
    {
     "name": "stdout",
     "output_type": "stream",
     "text": [
      "['H', 'H', 'H', 'H', 'H', 'Rx', 'Rx', 'Rx', 'Rx', 'Rx', 'Rz', 'Rz', 'Rz', 'Rz', 'Rz', 'CZ', 'CZ', 'CZ', 'CZ', 'Rx', 'Rx', 'Rx', 'Rx', 'Rx', 'Ry', 'Ry', 'Ry', 'Ry', 'Ry', 'CZ', 'CZ', 'CZ', 'CZ', 'Rx', 'Rx', 'Rx', 'Rx', 'Rx', 'Ry', 'Ry', 'Ry', 'Ry', 'Ry']\n",
      "43\n"
     ]
    }
   ],
   "source": [
    "print(gates)\n",
    "print(len(gates))"
   ]
  },
  {
   "cell_type": "code",
   "execution_count": 10,
   "id": "95401dac",
   "metadata": {
    "scrolled": true
   },
   "outputs": [
    {
     "name": "stdout",
     "output_type": "stream",
     "text": [
      "[[0], [1], [2], [3], [4], [0], [1], [2], [3], [4], [0], [1], [2], [3], [4], [0, 1], [1, 2], [2, 3], [3, 4], [0], [1], [2], [3], [4], [0], [1], [2], [3], [4], [0, 1], [1, 2], [2, 3], [3, 4], [0], [1], [2], [3], [4], [0], [1], [2], [3], [4]]\n",
      "43\n"
     ]
    }
   ],
   "source": [
    "print(qubit_inds)\n",
    "print(len(qubit_inds))"
   ]
  },
  {
   "cell_type": "code",
   "execution_count": 11,
   "id": "80c0f566",
   "metadata": {},
   "outputs": [
    {
     "name": "stdout",
     "output_type": "stream",
     "text": [
      "[[], [], [], [], [], [0], [1], [2], [3], [4], [5], [6], [7], [8], [9], [], [], [], [], [10], [11], [12], [13], [14], [15], [16], [17], [18], [19], [], [], [], [], [20], [21], [22], [23], [24], [25], [26], [27], [28], [29]]\n",
      "43\n"
     ]
    }
   ],
   "source": [
    "print(param_inds)\n",
    "print(len(param_inds))"
   ]
  },
  {
   "cell_type": "markdown",
   "id": "d0c02fab",
   "metadata": {},
   "source": [
    "Passes the eye test 👍"
   ]
  },
  {
   "cell_type": "markdown",
   "id": "a426bd88",
   "metadata": {
    "pycharm": {
     "name": "#%% md\n"
    }
   },
   "source": [
    "# Now to invoke qujax\n",
    "\n",
    "Let's generate the parameters -> statetensor function.\n",
    "\n",
    "Always be aware that we still have convention where parameters are specified as multiples of $\\pi$ - that is in [0,2]."
   ]
  },
  {
   "cell_type": "code",
   "execution_count": 12,
   "id": "f07c100c",
   "metadata": {
    "pycharm": {
     "name": "#%%\n"
    }
   },
   "outputs": [],
   "source": [
    "param_to_st = qujax.get_params_to_statetensor_func(gates, qubit_inds, param_inds)"
   ]
  },
  {
   "cell_type": "markdown",
   "id": "3c516343",
   "metadata": {},
   "source": [
    "In the [other notebooks](https://github.com/CQCL/qujax/tree/main/examples), we use automatic differentiaion via JAX's `value_and_grad` function. In this notebook, we will use more realistic stochastic gradients via the parameter shift rule\n",
    "$$\n",
    "    \\nabla_{\\theta_k} C(\\theta) = \\frac12 \\left( C\\left(\\theta + \\frac{\\pi}{2}e_k\\right) -  C\\left(\\theta - \\frac{\\pi}{2} e_k \\right) \\right),\n",
    "$$\n",
    "\n",
    "where the parameters are the rotations of single-qubit gates $U_k(\\theta_k) = e^{-i\\theta_k V_k / 2}$ and $e_k$ is the $k$th unit vector. For our maxcut problem, the cost function is $C(\\theta) = \\mathbb{E}_{p(z\\mid \\theta)}[f(x)]$, where $p(z\\mid \\theta)$ is the probability of the quantum circuit sampling bitstring $z$ given parameters $\\theta$ and $f(z)$ is the maxcut `cost_of_bitstring` function above. In practice, the cost function $C(\\theta)$ cannot be evaluated exactly and is instead approximated by Monte Carlo - as we shall simulate here."
   ]
  },
  {
   "cell_type": "code",
   "execution_count": 13,
   "id": "eb106b63",
   "metadata": {},
   "outputs": [],
   "source": [
    "def param_to_sampled_cost_and_grad(param, random_key):\n",
    "\n",
    "    random_keys = random.split(random_key, 2 * param.size + 1)\n",
    "    cost_key = random_keys[0]\n",
    "    grad_keys = random_keys[1:]\n",
    "\n",
    "    st = param_to_st(param)\n",
    "    sample_bitstrings = qujax.sample_bitstrings(cost_key, st, n_samps=n_shots)\n",
    "    sampled_cost = vmap(cost_of_bitstring)(sample_bitstrings).mean()\n",
    "\n",
    "    def sample_grad_k(k, random_key_plus, random_key_minus):\n",
    "        param_plus = param.at[k].set(param[k] + 0.5)\n",
    "        st_plus = param_to_st(param_plus)\n",
    "        sample_bitstrings_plus = qujax.sample_bitstrings(random_key_plus, st_plus, n_samps=n_shots)\n",
    "\n",
    "        param_minus = param.at[k].set(param[k] - 0.5)\n",
    "        st_minus = param_to_st(param_minus)\n",
    "        sample_bitstrings_minus = qujax.sample_bitstrings(random_key_minus, st_minus, n_samps=n_shots)\n",
    "\n",
    "        return (vmap(cost_of_bitstring)(sample_bitstrings_plus).mean() - vmap(cost_of_bitstring)(sample_bitstrings_minus).mean()) / 2\n",
    "\n",
    "    sampled_grad = vmap(sample_grad_k)(jnp.arange(param.size),\n",
    "                                       grad_keys[:param.size],\n",
    "                                       grad_keys[param.size:])\n",
    "    return sampled_cost, sampled_grad"
   ]
  },
  {
   "cell_type": "markdown",
   "id": "30c54fb2",
   "metadata": {},
   "source": [
    "# Stochastic gradient descent time\n",
    "\n",
    "We will use [`optax`](https://github.com/deepmind/optax) to run gradient descent with Adam."
   ]
  },
  {
   "cell_type": "code",
   "execution_count": 14,
   "id": "da8abed5",
   "metadata": {},
   "outputs": [],
   "source": [
    "optimiser = optax.adam(stepsize)"
   ]
  },
  {
   "cell_type": "code",
   "execution_count": 15,
   "id": "f5d14bec",
   "metadata": {},
   "outputs": [],
   "source": [
    "init_param = random.uniform(init_key, shape=(n_params,), minval=-init_rad, maxval=init_rad)"
   ]
  },
  {
   "cell_type": "code",
   "execution_count": 16,
   "id": "dc219fc6",
   "metadata": {},
   "outputs": [],
   "source": [
    "init_opt_state = optimiser.init(init_param)"
   ]
  },
  {
   "cell_type": "code",
   "execution_count": 17,
   "id": "03ef565c",
   "metadata": {},
   "outputs": [],
   "source": [
    "def gd_iteration(params_and_opt_state_and_rk, step):\n",
    "    params, opt_state, rk_in = params_and_opt_state_and_rk\n",
    "    rk_out, rk_samp = random.split(rk_in)\n",
    "\n",
    "    cost, grads = param_to_sampled_cost_and_grad(params, rk_samp)\n",
    "\n",
    "    updates, new_opt_state = optimiser.update(grads, opt_state, params)\n",
    "    new_params = optax.apply_updates(params, updates)\n",
    "    return (new_params, new_opt_state, rk_out), (params, cost)"
   ]
  },
  {
   "cell_type": "code",
   "execution_count": 18,
   "id": "2a427881",
   "metadata": {},
   "outputs": [],
   "source": [
    "_, (params_path, cost_path) = scan(gd_iteration,\n",
    "                                   (init_param, init_opt_state, train_key),\n",
    "                                   jnp.arange(n_steps))"
   ]
  },
  {
   "cell_type": "markdown",
   "id": "e44778d3",
   "metadata": {},
   "source": [
    "Lets visualise the results"
   ]
  },
  {
   "cell_type": "code",
   "execution_count": 19,
   "id": "79123629",
   "metadata": {},
   "outputs": [],
   "source": [
    "opt_cost = vmap(cost_of_bitstring)(qujax.integers_to_bitstrings(jnp.arange(2 ** n_qubits), n_qubits)).min()"
   ]
  },
  {
   "cell_type": "code",
   "execution_count": 20,
   "id": "72a0796a",
   "metadata": {},
   "outputs": [
    {
     "data": {
      "image/png": "[encoded data removed]",
      "text/plain": [
       "<Figure size 432x288 with 1 Axes>"
      ]
     },
     "metadata": {
      "needs_background": "light"
     },
     "output_type": "display_data"
    }
   ],
   "source": [
    "plt.plot(cost_path, label='Training')\n",
    "plt.axhline(opt_cost, color='green', label='Optimal Solution')\n",
    "plt.xlabel('Iteration')\n",
    "plt.ylabel('(Sampled) Maxcut Cost')\n",
    "plt.legend();"
   ]
  }
 ],
 "metadata": {
  "kernelspec": {
   "display_name": "Python 3 (ipykernel)",
   "language": "python",
   "name": "python3"
  },
  "language_info": {
   "codemirror_mode": {
    "name": "ipython",
    "version": 3
   },
   "file_extension": ".py",
   "mimetype": "text/x-python",
   "name": "python",
   "nbconvert_exporter": "python",
   "pygments_lexer": "ipython3",
   "version": "3.9.10"
  }
 },
 "nbformat": 4,
 "nbformat_minor": 5
}
