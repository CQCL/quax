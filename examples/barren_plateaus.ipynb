{
 "cells": [
  {
   "cell_type": "markdown",
   "id": "d2fb25e7",
   "metadata": {},
   "source": [
    "# Barren plateaus and vanishing gradients in parameterized quantum circuits"
   ]
  },
  {
   "cell_type": "markdown",
   "id": "05a9bb56",
   "metadata": {},
   "source": [
    "## Definition"
   ]
  },
  {
   "cell_type": "markdown",
   "id": "1f5dd510",
   "metadata": {},
   "source": [
    "In this notebook, we will numerically study the phenomenon of _barren plateaus_ in parameterized quantum circuits (PQCs).\n",
    "\n",
    "Given a parameterized quantum circuit $U(\\theta)$ and an initial state $\\ket{\\psi(0)}$, define \n",
    "\n",
    "$$\\ket{\\psi(\\theta)} := U(\\theta)\\ket{\\psi(0)}.$$ \n",
    "\n",
    "If $c$ is some cost function, $c(\\ket{\\psi(\\theta)})$ has a barren plateau if for all indices $j$ and some $k > 0$,\n",
    "$$\n",
    "\\frac{\\partial c}{\\partial \\theta_j} = O(\\exp(-k L))\n",
    "$$\n",
    "where $L$ is the number of qubits. \n",
    "\n",
    "In practical terms, this means that training of this parameterised circuit does not scale favourably with the number of qubits. \n",
    "\n",
    "Barren plateaus were first described [here](https://doi.org/10.1038/s41467-018-07090-4) and have since been extensively studied in the literature (see e.g. Section 6.1 of [this manuscript](https://doi.org/10.1016/j.physrep.2022.08.003) and the citations therein for a more in-depth discussion)."
   ]
  },
  {
   "cell_type": "markdown",
   "id": "09de3bc1",
   "metadata": {},
   "source": [
    "## Numerical characterization of vainishing gradients"
   ]
  },
  {
   "cell_type": "markdown",
   "id": "c0aa4342",
   "metadata": {},
   "source": [
    "It follows from a direct application of [Chebyshev's inequality](https://en.wikipedia.org/wiki/Chebyshev%27s_inequality) that\n",
    "$$\n",
    "P\\left(\\left| \\frac{\\partial c}{\\partial \\theta_j} \\right| \\geq \\epsilon \\right) \\leq \\frac{\\text{Var}\\left(\\frac{\\partial c}{\\partial \\theta_j}\\right)} {\\epsilon^2} \n",
    "$$\n",
    "Thus, if it is the case that $\\text{Var}\\left(\\frac{\\partial c}{\\partial \\theta_j}\\right) = O(\\exp(-kL))$ for some $k>0$, we are in the presence of a barren plateau. It has been empirically observed that this scaling is independent of the index $j$ chosen; here, we will choose the first angle in the vector of parameters $\\theta$."
   ]
  },
  {
   "cell_type": "markdown",
   "id": "6fd3a862",
   "metadata": {},
   "source": [
    "## Imports"
   ]
  },
  {
   "cell_type": "code",
   "execution_count": 1,
   "id": "16f5bf05-00b5-42a6-934e-2ab4402c6a49",
   "metadata": {},
   "outputs": [
    {
     "name": "stderr",
     "output_type": "stream",
     "text": [
      "No GPU/TPU found, falling back to CPU. (Set TF_CPP_MIN_LOG_LEVEL=0 and rerun for more info.)\n"
     ]
    }
   ],
   "source": [
    "from typing import List, Tuple\n",
    "\n",
    "import jax\n",
    "import jax.numpy as jnp\n",
    "from jax.random import PRNGKey\n",
    "\n",
    "import qujax\n",
    "from qujax import all_zeros_statetensor, print_circuit, repeat_circuit"
   ]
  },
  {
   "cell_type": "markdown",
   "id": "17c06a73",
   "metadata": {},
   "source": [
    "## Define and check ansatz"
   ]
  },
  {
   "cell_type": "markdown",
   "id": "5389a6b8",
   "metadata": {},
   "source": [
    "Here, the PQC will be a hardware efficient ansatz, which is known to have barren plateaus due to its expressibility"
   ]
  },
  {
   "cell_type": "code",
   "execution_count": 2,
   "id": "397640bd",
   "metadata": {},
   "outputs": [],
   "source": [
    "def hardware_efficient_ansatz(\n",
    "    n_qubits: int,\n",
    ") -> Tuple[List[str], List[List[int]], List[List[int]], int]:\n",
    "    \"\"\"\n",
    "    Builds and returns the circuit specification for a hardware efficient ansatz\n",
    "    \"\"\"\n",
    "\n",
    "    gates: List[str] = []\n",
    "    qubit_inds: List[List[int]] = []\n",
    "    param_inds: List[List[int]] = []\n",
    "\n",
    "    parameter_index = 0\n",
    "\n",
    "    # Ry layer\n",
    "    for i in range(n_qubits):\n",
    "        gates.append(\"Ry\")\n",
    "        qubit_inds.append([i])\n",
    "        param_inds.append([parameter_index])\n",
    "        parameter_index += 1\n",
    "\n",
    "    # Rx layer\n",
    "    for i in range(0, n_qubits):\n",
    "        gates.append(\"Rx\")\n",
    "        qubit_inds.append([i])\n",
    "        param_inds.append([parameter_index])\n",
    "        parameter_index += 1\n",
    "\n",
    "    # CRz layer\n",
    "    for i in range(n_qubits - 1):\n",
    "        gates.append(\"CZ\")\n",
    "        qubit_inds.append([i, i + 1])\n",
    "        param_inds.append([])\n",
    "\n",
    "    return gates, qubit_inds, param_inds, parameter_index"
   ]
  },
  {
   "cell_type": "markdown",
   "id": "1111e958",
   "metadata": {},
   "source": [
    "Print one repetition of the circuit to visually check for correctness"
   ]
  },
  {
   "cell_type": "code",
   "execution_count": 3,
   "id": "95e6e9bc-8ab0-4411-8e34-7e5cbdeb77d9",
   "metadata": {},
   "outputs": [],
   "source": [
    "gates, qubit_inds, param_inds, nr_of_parameters = hardware_efficient_ansatz(4)"
   ]
  },
  {
   "cell_type": "code",
   "execution_count": 4,
   "id": "7d0f4aee-aad5-4b62-8483-5073746374e0",
   "metadata": {},
   "outputs": [
    {
     "name": "stdout",
     "output_type": "stream",
     "text": [
      "q0: ---Ry[0]---Rx[4]-----◯-------------------\n",
      "                         |                   \n",
      "q1: ---Ry[1]---Rx[5]-----CZ------◯-----------\n",
      "                                 |           \n",
      "q2: ---Ry[2]---Rx[6]-------------CZ------◯---\n",
      "                                         |   \n",
      "q3: ---Ry[3]---Rx[7]---------------------CZ--\n"
     ]
    }
   ],
   "source": [
    "print_circuit(gates, qubit_inds, param_inds);"
   ]
  },
  {
   "cell_type": "markdown",
   "id": "a7d28ba0",
   "metadata": {},
   "source": [
    "## Define cost function"
   ]
  },
  {
   "cell_type": "markdown",
   "id": "f8ae9870",
   "metadata": {},
   "source": [
    "We will be working with the cost function\n",
    "$$\n",
    "    c(\\ket{\\psi(\\theta)}) = \\langle \\psi (\\theta) | X_1 | \\psi (\\theta) \\rangle.\n",
    "$$\n",
    "Expectation values are known to present with a barren plateau for sufficiently expressible circuits (such as the hardware efficient ansatz we employ) and sufficiently deep circuits."
   ]
  },
  {
   "cell_type": "code",
   "execution_count": 5,
   "id": "42bfbc11",
   "metadata": {},
   "outputs": [],
   "source": [
    "observables = [[\"X\"]]\n",
    "qubits_to_measure = [[1]]\n",
    "coefficients = [1.0]\n",
    "\n",
    "# Get function that computes expectation value from quantum state\n",
    "statetensor_to_expectation_func = qujax.get_statetensor_to_expectation_func(\n",
    "    observables, qubits_to_measure, coefficients\n",
    ")"
   ]
  },
  {
   "cell_type": "markdown",
   "id": "06c44f5c",
   "metadata": {},
   "source": [
    "## Measure gradients"
   ]
  },
  {
   "cell_type": "markdown",
   "id": "0a7f77cd",
   "metadata": {},
   "source": [
    "Define parameters"
   ]
  },
  {
   "cell_type": "code",
   "execution_count": 6,
   "id": "063a6fd8",
   "metadata": {},
   "outputs": [
    {
     "name": "stdout",
     "output_type": "stream",
     "text": [
      "Total number of gradient samples: 5000\n"
     ]
    }
   ],
   "source": [
    "n_qubits = [2, 4, 6, 8, 10]\n",
    "circuit_depth = 100\n",
    "rng_seed = 0\n",
    "batch_size = 100\n",
    "n_batches = 50\n",
    "\n",
    "print(\"Total number of gradient samples:\", n_batches * batch_size)"
   ]
  },
  {
   "cell_type": "code",
   "execution_count": 7,
   "id": "c1752b93",
   "metadata": {},
   "outputs": [
    {
     "name": "stdout",
     "output_type": "stream",
     "text": [
      "Computing variance for 2 qubits\n",
      "Variance for 2 qubits: 1.3082\n",
      "Computing variance for 4 qubits\n",
      "Variance for 4 qubits: 0.3036\n",
      "Computing variance for 6 qubits\n",
      "Variance for 6 qubits: 0.0788\n",
      "Computing variance for 8 qubits\n",
      "Variance for 8 qubits: 0.0195\n",
      "Computing variance for 10 qubits\n",
      "Variance for 10 qubits: 0.0047\n"
     ]
    }
   ],
   "source": [
    "results_list = []\n",
    "rng_key = PRNGKey(rng_seed)\n",
    "\n",
    "for q in n_qubits:\n",
    "    print(f\"Computing variance for {q} qubits\")\n",
    "    # qujax specification of hardware efficient ansatz\n",
    "    gates, qubit_inds, param_inds, nr_of_parameters = hardware_efficient_ansatz(q)\n",
    "\n",
    "    # Get function that returns one application of the circuit\n",
    "    params_to_statetensor = qujax.get_params_to_statetensor_func(\n",
    "        gates, qubit_inds, param_inds\n",
    "    )\n",
    "\n",
    "    # Allow for an arbitrary number of circuit repetitions while avoiding compilation overhead\n",
    "    repeated_circuit = repeat_circuit(params_to_statetensor, nr_of_parameters)\n",
    "\n",
    "    def expectation_func(angles: jax.Array, statetensor_in: jax.Array):\n",
    "        return statetensor_to_expectation_func(repeated_circuit(angles, statetensor_in))\n",
    "\n",
    "    gradient_func = jax.grad(expectation_func)\n",
    "\n",
    "    def gradient_of_first_angle(\n",
    "        angles: jax.Array, statetensor_in: jax.Array\n",
    "    ) -> jax.Array:\n",
    "        return gradient_func(angles, statetensor_in)[0]\n",
    "\n",
    "    # Batched gradient sampling\n",
    "    vectorized_gradient_of_first_angle = jax.jit(\n",
    "        jax.vmap(gradient_of_first_angle, (0, None))\n",
    "    )\n",
    "\n",
    "    initial_state = all_zeros_statetensor(q)\n",
    "\n",
    "    sample_list = []\n",
    "    for i in range(n_batches):\n",
    "        rng_key, parameters_rng = jax.random.split(rng_key)\n",
    "\n",
    "        random_angles = jax.random.uniform(\n",
    "            parameters_rng, (batch_size, circuit_depth * nr_of_parameters)\n",
    "        )\n",
    "        samples = vectorized_gradient_of_first_angle(random_angles, initial_state)\n",
    "\n",
    "        sample_list.append(samples)\n",
    "\n",
    "    variance = jnp.var(jnp.stack(sample_list))\n",
    "\n",
    "    print(f\"Variance for {q} qubits: {variance:.4f}\")\n",
    "\n",
    "    results_list.append(variance)"
   ]
  },
  {
   "cell_type": "markdown",
   "id": "660d86d3",
   "metadata": {},
   "source": [
    "# Plot Results"
   ]
  },
  {
   "cell_type": "code",
   "execution_count": 8,
   "id": "b7980e0b",
   "metadata": {},
   "outputs": [],
   "source": [
    "import matplotlib.pyplot as plt"
   ]
  },
  {
   "cell_type": "code",
   "execution_count": 9,
   "id": "86ed5a5c",
   "metadata": {},
   "outputs": [
    {
     "data": {
      "image/png": "[encoded data removed]",
      "text/plain": [
       "<Figure size 640x480 with 1 Axes>"
      ]
     },
     "metadata": {},
     "output_type": "display_data"
    }
   ],
   "source": [
    "plt.plot(n_qubits, results_list)\n",
    "plt.scatter(n_qubits, results_list, marker=\"x\")\n",
    "plt.yscale(\"log\")\n",
    "plt.xlabel(\"nr of qubits\")\n",
    "plt.ylabel(r\"Var $\\left(\\frac{\\partial c}{\\partial \\theta_0}\\right)$\");"
   ]
  }
 ],
 "metadata": {
  "kernelspec": {
   "display_name": "quantum",
   "language": "python",
   "name": "python3"
  },
  "language_info": {
   "codemirror_mode": {
    "name": "ipython",
    "version": 3
   },
   "file_extension": ".py",
   "mimetype": "text/x-python",
   "name": "python",
   "nbconvert_exporter": "python",
   "pygments_lexer": "ipython3",
   "version": "3.11.4"
  }
 },
 "nbformat": 4,
 "nbformat_minor": 5
}
